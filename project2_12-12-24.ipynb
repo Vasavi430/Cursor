{
  "nbformat": 4,
  "nbformat_minor": 0,
  "metadata": {
    "colab": {
      "provenance": [],
      "authorship_tag": "ABX9TyMZgbWc7upzBA4KHYcERzcD",
      "include_colab_link": true
    },
    "kernelspec": {
      "name": "python3",
      "display_name": "Python 3"
    },
    "language_info": {
      "name": "python"
    }
  },
  "cells": [
    {
      "cell_type": "markdown",
      "metadata": {
        "id": "view-in-github",
        "colab_type": "text"
      },
      "source": [
        "<a href=\"https://colab.research.google.com/github/Vasavi430/Cursor/blob/main/project2_12-12-24.ipynb\" target=\"_parent\"><img src=\"https://colab.research.google.com/assets/colab-badge.svg\" alt=\"Open In Colab\"/></a>"
      ]
    },
    {
      "cell_type": "code",
      "source": [
        "import pandas as pd\n",
        "df = pd.read_csv('/content/dataset.csv')"
      ],
      "metadata": {
        "id": "K2_qZPzgY91I"
      },
      "execution_count": null,
      "outputs": []
    },
    {
      "cell_type": "code",
      "source": [
        "df"
      ],
      "metadata": {
        "colab": {
          "base_uri": "https://localhost:8080/",
          "height": 597
        },
        "id": "5-KsV_DLx9rk",
        "outputId": "c499bc51-0999-4bf9-89cb-07ff96fbf7d0"
      },
      "execution_count": null,
      "outputs": [
        {
          "output_type": "execute_result",
          "data": {
            "text/plain": [
              "                 timestamp   cnt   t1   t2    hum  wind_speed  weather_code  \\\n",
              "0      2015-01-04 00:00:00   182  3.0  2.0   93.0         6.0           3.0   \n",
              "1      2015-01-04 01:00:00   138  3.0  2.5   93.0         5.0           1.0   \n",
              "2      2015-01-04 02:00:00   134  2.5  2.5   96.5         0.0           1.0   \n",
              "3      2015-01-04 03:00:00    72  2.0  2.0  100.0         0.0           1.0   \n",
              "4      2015-01-04 04:00:00    47  2.0  0.0   93.0         6.5           1.0   \n",
              "...                    ...   ...  ...  ...    ...         ...           ...   \n",
              "17409  2017-01-03 19:00:00  1042  5.0  1.0   81.0        19.0           3.0   \n",
              "17410  2017-01-03 20:00:00   541  5.0  1.0   81.0        21.0           4.0   \n",
              "17411  2017-01-03 21:00:00   337  5.5  1.5   78.5        24.0           4.0   \n",
              "17412  2017-01-03 22:00:00   224  5.5  1.5   76.0        23.0           4.0   \n",
              "17413  2017-01-03 23:00:00   139  5.0  1.0   76.0        22.0           2.0   \n",
              "\n",
              "       is_holiday  is_weekend  season  \n",
              "0             0.0         1.0     3.0  \n",
              "1             0.0         1.0     3.0  \n",
              "2             0.0         1.0     3.0  \n",
              "3             0.0         1.0     3.0  \n",
              "4             0.0         1.0     3.0  \n",
              "...           ...         ...     ...  \n",
              "17409         0.0         0.0     3.0  \n",
              "17410         0.0         0.0     3.0  \n",
              "17411         0.0         0.0     3.0  \n",
              "17412         0.0         0.0     3.0  \n",
              "17413         0.0         0.0     3.0  \n",
              "\n",
              "[17414 rows x 10 columns]"
            ],
            "text/html": [
              "\n",
              "  <div id=\"df-dfef762f-5cf0-4020-bcf7-4201fa4c61c6\" class=\"colab-df-container\">\n",
              "    <div>\n",
              "<style scoped>\n",
              "    .dataframe tbody tr th:only-of-type {\n",
              "        vertical-align: middle;\n",
              "    }\n",
              "\n",
              "    .dataframe tbody tr th {\n",
              "        vertical-align: top;\n",
              "    }\n",
              "\n",
              "    .dataframe thead th {\n",
              "        text-align: right;\n",
              "    }\n",
              "</style>\n",
              "<table border=\"1\" class=\"dataframe\">\n",
              "  <thead>\n",
              "    <tr style=\"text-align: right;\">\n",
              "      <th></th>\n",
              "      <th>timestamp</th>\n",
              "      <th>cnt</th>\n",
              "      <th>t1</th>\n",
              "      <th>t2</th>\n",
              "      <th>hum</th>\n",
              "      <th>wind_speed</th>\n",
              "      <th>weather_code</th>\n",
              "      <th>is_holiday</th>\n",
              "      <th>is_weekend</th>\n",
              "      <th>season</th>\n",
              "    </tr>\n",
              "  </thead>\n",
              "  <tbody>\n",
              "    <tr>\n",
              "      <th>0</th>\n",
              "      <td>2015-01-04 00:00:00</td>\n",
              "      <td>182</td>\n",
              "      <td>3.0</td>\n",
              "      <td>2.0</td>\n",
              "      <td>93.0</td>\n",
              "      <td>6.0</td>\n",
              "      <td>3.0</td>\n",
              "      <td>0.0</td>\n",
              "      <td>1.0</td>\n",
              "      <td>3.0</td>\n",
              "    </tr>\n",
              "    <tr>\n",
              "      <th>1</th>\n",
              "      <td>2015-01-04 01:00:00</td>\n",
              "      <td>138</td>\n",
              "      <td>3.0</td>\n",
              "      <td>2.5</td>\n",
              "      <td>93.0</td>\n",
              "      <td>5.0</td>\n",
              "      <td>1.0</td>\n",
              "      <td>0.0</td>\n",
              "      <td>1.0</td>\n",
              "      <td>3.0</td>\n",
              "    </tr>\n",
              "    <tr>\n",
              "      <th>2</th>\n",
              "      <td>2015-01-04 02:00:00</td>\n",
              "      <td>134</td>\n",
              "      <td>2.5</td>\n",
              "      <td>2.5</td>\n",
              "      <td>96.5</td>\n",
              "      <td>0.0</td>\n",
              "      <td>1.0</td>\n",
              "      <td>0.0</td>\n",
              "      <td>1.0</td>\n",
              "      <td>3.0</td>\n",
              "    </tr>\n",
              "    <tr>\n",
              "      <th>3</th>\n",
              "      <td>2015-01-04 03:00:00</td>\n",
              "      <td>72</td>\n",
              "      <td>2.0</td>\n",
              "      <td>2.0</td>\n",
              "      <td>100.0</td>\n",
              "      <td>0.0</td>\n",
              "      <td>1.0</td>\n",
              "      <td>0.0</td>\n",
              "      <td>1.0</td>\n",
              "      <td>3.0</td>\n",
              "    </tr>\n",
              "    <tr>\n",
              "      <th>4</th>\n",
              "      <td>2015-01-04 04:00:00</td>\n",
              "      <td>47</td>\n",
              "      <td>2.0</td>\n",
              "      <td>0.0</td>\n",
              "      <td>93.0</td>\n",
              "      <td>6.5</td>\n",
              "      <td>1.0</td>\n",
              "      <td>0.0</td>\n",
              "      <td>1.0</td>\n",
              "      <td>3.0</td>\n",
              "    </tr>\n",
              "    <tr>\n",
              "      <th>...</th>\n",
              "      <td>...</td>\n",
              "      <td>...</td>\n",
              "      <td>...</td>\n",
              "      <td>...</td>\n",
              "      <td>...</td>\n",
              "      <td>...</td>\n",
              "      <td>...</td>\n",
              "      <td>...</td>\n",
              "      <td>...</td>\n",
              "      <td>...</td>\n",
              "    </tr>\n",
              "    <tr>\n",
              "      <th>17409</th>\n",
              "      <td>2017-01-03 19:00:00</td>\n",
              "      <td>1042</td>\n",
              "      <td>5.0</td>\n",
              "      <td>1.0</td>\n",
              "      <td>81.0</td>\n",
              "      <td>19.0</td>\n",
              "      <td>3.0</td>\n",
              "      <td>0.0</td>\n",
              "      <td>0.0</td>\n",
              "      <td>3.0</td>\n",
              "    </tr>\n",
              "    <tr>\n",
              "      <th>17410</th>\n",
              "      <td>2017-01-03 20:00:00</td>\n",
              "      <td>541</td>\n",
              "      <td>5.0</td>\n",
              "      <td>1.0</td>\n",
              "      <td>81.0</td>\n",
              "      <td>21.0</td>\n",
              "      <td>4.0</td>\n",
              "      <td>0.0</td>\n",
              "      <td>0.0</td>\n",
              "      <td>3.0</td>\n",
              "    </tr>\n",
              "    <tr>\n",
              "      <th>17411</th>\n",
              "      <td>2017-01-03 21:00:00</td>\n",
              "      <td>337</td>\n",
              "      <td>5.5</td>\n",
              "      <td>1.5</td>\n",
              "      <td>78.5</td>\n",
              "      <td>24.0</td>\n",
              "      <td>4.0</td>\n",
              "      <td>0.0</td>\n",
              "      <td>0.0</td>\n",
              "      <td>3.0</td>\n",
              "    </tr>\n",
              "    <tr>\n",
              "      <th>17412</th>\n",
              "      <td>2017-01-03 22:00:00</td>\n",
              "      <td>224</td>\n",
              "      <td>5.5</td>\n",
              "      <td>1.5</td>\n",
              "      <td>76.0</td>\n",
              "      <td>23.0</td>\n",
              "      <td>4.0</td>\n",
              "      <td>0.0</td>\n",
              "      <td>0.0</td>\n",
              "      <td>3.0</td>\n",
              "    </tr>\n",
              "    <tr>\n",
              "      <th>17413</th>\n",
              "      <td>2017-01-03 23:00:00</td>\n",
              "      <td>139</td>\n",
              "      <td>5.0</td>\n",
              "      <td>1.0</td>\n",
              "      <td>76.0</td>\n",
              "      <td>22.0</td>\n",
              "      <td>2.0</td>\n",
              "      <td>0.0</td>\n",
              "      <td>0.0</td>\n",
              "      <td>3.0</td>\n",
              "    </tr>\n",
              "  </tbody>\n",
              "</table>\n",
              "<p>17414 rows × 10 columns</p>\n",
              "</div>\n",
              "    <div class=\"colab-df-buttons\">\n",
              "\n",
              "  <div class=\"colab-df-container\">\n",
              "    <button class=\"colab-df-convert\" onclick=\"convertToInteractive('df-dfef762f-5cf0-4020-bcf7-4201fa4c61c6')\"\n",
              "            title=\"Convert this dataframe to an interactive table.\"\n",
              "            style=\"display:none;\">\n",
              "\n",
              "  <svg xmlns=\"http://www.w3.org/2000/svg\" height=\"24px\" viewBox=\"0 -960 960 960\">\n",
              "    <path d=\"M120-120v-720h720v720H120Zm60-500h600v-160H180v160Zm220 220h160v-160H400v160Zm0 220h160v-160H400v160ZM180-400h160v-160H180v160Zm440 0h160v-160H620v160ZM180-180h160v-160H180v160Zm440 0h160v-160H620v160Z\"/>\n",
              "  </svg>\n",
              "    </button>\n",
              "\n",
              "  <style>\n",
              "    .colab-df-container {\n",
              "      display:flex;\n",
              "      gap: 12px;\n",
              "    }\n",
              "\n",
              "    .colab-df-convert {\n",
              "      background-color: #E8F0FE;\n",
              "      border: none;\n",
              "      border-radius: 50%;\n",
              "      cursor: pointer;\n",
              "      display: none;\n",
              "      fill: #1967D2;\n",
              "      height: 32px;\n",
              "      padding: 0 0 0 0;\n",
              "      width: 32px;\n",
              "    }\n",
              "\n",
              "    .colab-df-convert:hover {\n",
              "      background-color: #E2EBFA;\n",
              "      box-shadow: 0px 1px 2px rgba(60, 64, 67, 0.3), 0px 1px 3px 1px rgba(60, 64, 67, 0.15);\n",
              "      fill: #174EA6;\n",
              "    }\n",
              "\n",
              "    .colab-df-buttons div {\n",
              "      margin-bottom: 4px;\n",
              "    }\n",
              "\n",
              "    [theme=dark] .colab-df-convert {\n",
              "      background-color: #3B4455;\n",
              "      fill: #D2E3FC;\n",
              "    }\n",
              "\n",
              "    [theme=dark] .colab-df-convert:hover {\n",
              "      background-color: #434B5C;\n",
              "      box-shadow: 0px 1px 3px 1px rgba(0, 0, 0, 0.15);\n",
              "      filter: drop-shadow(0px 1px 2px rgba(0, 0, 0, 0.3));\n",
              "      fill: #FFFFFF;\n",
              "    }\n",
              "  </style>\n",
              "\n",
              "    <script>\n",
              "      const buttonEl =\n",
              "        document.querySelector('#df-dfef762f-5cf0-4020-bcf7-4201fa4c61c6 button.colab-df-convert');\n",
              "      buttonEl.style.display =\n",
              "        google.colab.kernel.accessAllowed ? 'block' : 'none';\n",
              "\n",
              "      async function convertToInteractive(key) {\n",
              "        const element = document.querySelector('#df-dfef762f-5cf0-4020-bcf7-4201fa4c61c6');\n",
              "        const dataTable =\n",
              "          await google.colab.kernel.invokeFunction('convertToInteractive',\n",
              "                                                    [key], {});\n",
              "        if (!dataTable) return;\n",
              "\n",
              "        const docLinkHtml = 'Like what you see? Visit the ' +\n",
              "          '<a target=\"_blank\" href=https://colab.research.google.com/notebooks/data_table.ipynb>data table notebook</a>'\n",
              "          + ' to learn more about interactive tables.';\n",
              "        element.innerHTML = '';\n",
              "        dataTable['output_type'] = 'display_data';\n",
              "        await google.colab.output.renderOutput(dataTable, element);\n",
              "        const docLink = document.createElement('div');\n",
              "        docLink.innerHTML = docLinkHtml;\n",
              "        element.appendChild(docLink);\n",
              "      }\n",
              "    </script>\n",
              "  </div>\n",
              "\n",
              "\n",
              "<div id=\"df-dc5b2682-2475-4d29-aea3-cb8716a13d4d\">\n",
              "  <button class=\"colab-df-quickchart\" onclick=\"quickchart('df-dc5b2682-2475-4d29-aea3-cb8716a13d4d')\"\n",
              "            title=\"Suggest charts\"\n",
              "            style=\"display:none;\">\n",
              "\n",
              "<svg xmlns=\"http://www.w3.org/2000/svg\" height=\"24px\"viewBox=\"0 0 24 24\"\n",
              "     width=\"24px\">\n",
              "    <g>\n",
              "        <path d=\"M19 3H5c-1.1 0-2 .9-2 2v14c0 1.1.9 2 2 2h14c1.1 0 2-.9 2-2V5c0-1.1-.9-2-2-2zM9 17H7v-7h2v7zm4 0h-2V7h2v10zm4 0h-2v-4h2v4z\"/>\n",
              "    </g>\n",
              "</svg>\n",
              "  </button>\n",
              "\n",
              "<style>\n",
              "  .colab-df-quickchart {\n",
              "      --bg-color: #E8F0FE;\n",
              "      --fill-color: #1967D2;\n",
              "      --hover-bg-color: #E2EBFA;\n",
              "      --hover-fill-color: #174EA6;\n",
              "      --disabled-fill-color: #AAA;\n",
              "      --disabled-bg-color: #DDD;\n",
              "  }\n",
              "\n",
              "  [theme=dark] .colab-df-quickchart {\n",
              "      --bg-color: #3B4455;\n",
              "      --fill-color: #D2E3FC;\n",
              "      --hover-bg-color: #434B5C;\n",
              "      --hover-fill-color: #FFFFFF;\n",
              "      --disabled-bg-color: #3B4455;\n",
              "      --disabled-fill-color: #666;\n",
              "  }\n",
              "\n",
              "  .colab-df-quickchart {\n",
              "    background-color: var(--bg-color);\n",
              "    border: none;\n",
              "    border-radius: 50%;\n",
              "    cursor: pointer;\n",
              "    display: none;\n",
              "    fill: var(--fill-color);\n",
              "    height: 32px;\n",
              "    padding: 0;\n",
              "    width: 32px;\n",
              "  }\n",
              "\n",
              "  .colab-df-quickchart:hover {\n",
              "    background-color: var(--hover-bg-color);\n",
              "    box-shadow: 0 1px 2px rgba(60, 64, 67, 0.3), 0 1px 3px 1px rgba(60, 64, 67, 0.15);\n",
              "    fill: var(--button-hover-fill-color);\n",
              "  }\n",
              "\n",
              "  .colab-df-quickchart-complete:disabled,\n",
              "  .colab-df-quickchart-complete:disabled:hover {\n",
              "    background-color: var(--disabled-bg-color);\n",
              "    fill: var(--disabled-fill-color);\n",
              "    box-shadow: none;\n",
              "  }\n",
              "\n",
              "  .colab-df-spinner {\n",
              "    border: 2px solid var(--fill-color);\n",
              "    border-color: transparent;\n",
              "    border-bottom-color: var(--fill-color);\n",
              "    animation:\n",
              "      spin 1s steps(1) infinite;\n",
              "  }\n",
              "\n",
              "  @keyframes spin {\n",
              "    0% {\n",
              "      border-color: transparent;\n",
              "      border-bottom-color: var(--fill-color);\n",
              "      border-left-color: var(--fill-color);\n",
              "    }\n",
              "    20% {\n",
              "      border-color: transparent;\n",
              "      border-left-color: var(--fill-color);\n",
              "      border-top-color: var(--fill-color);\n",
              "    }\n",
              "    30% {\n",
              "      border-color: transparent;\n",
              "      border-left-color: var(--fill-color);\n",
              "      border-top-color: var(--fill-color);\n",
              "      border-right-color: var(--fill-color);\n",
              "    }\n",
              "    40% {\n",
              "      border-color: transparent;\n",
              "      border-right-color: var(--fill-color);\n",
              "      border-top-color: var(--fill-color);\n",
              "    }\n",
              "    60% {\n",
              "      border-color: transparent;\n",
              "      border-right-color: var(--fill-color);\n",
              "    }\n",
              "    80% {\n",
              "      border-color: transparent;\n",
              "      border-right-color: var(--fill-color);\n",
              "      border-bottom-color: var(--fill-color);\n",
              "    }\n",
              "    90% {\n",
              "      border-color: transparent;\n",
              "      border-bottom-color: var(--fill-color);\n",
              "    }\n",
              "  }\n",
              "</style>\n",
              "\n",
              "  <script>\n",
              "    async function quickchart(key) {\n",
              "      const quickchartButtonEl =\n",
              "        document.querySelector('#' + key + ' button');\n",
              "      quickchartButtonEl.disabled = true;  // To prevent multiple clicks.\n",
              "      quickchartButtonEl.classList.add('colab-df-spinner');\n",
              "      try {\n",
              "        const charts = await google.colab.kernel.invokeFunction(\n",
              "            'suggestCharts', [key], {});\n",
              "      } catch (error) {\n",
              "        console.error('Error during call to suggestCharts:', error);\n",
              "      }\n",
              "      quickchartButtonEl.classList.remove('colab-df-spinner');\n",
              "      quickchartButtonEl.classList.add('colab-df-quickchart-complete');\n",
              "    }\n",
              "    (() => {\n",
              "      let quickchartButtonEl =\n",
              "        document.querySelector('#df-dc5b2682-2475-4d29-aea3-cb8716a13d4d button');\n",
              "      quickchartButtonEl.style.display =\n",
              "        google.colab.kernel.accessAllowed ? 'block' : 'none';\n",
              "    })();\n",
              "  </script>\n",
              "</div>\n",
              "\n",
              "  <div id=\"id_d4259e5e-1d53-4e99-b467-d7f331d154ab\">\n",
              "    <style>\n",
              "      .colab-df-generate {\n",
              "        background-color: #E8F0FE;\n",
              "        border: none;\n",
              "        border-radius: 50%;\n",
              "        cursor: pointer;\n",
              "        display: none;\n",
              "        fill: #1967D2;\n",
              "        height: 32px;\n",
              "        padding: 0 0 0 0;\n",
              "        width: 32px;\n",
              "      }\n",
              "\n",
              "      .colab-df-generate:hover {\n",
              "        background-color: #E2EBFA;\n",
              "        box-shadow: 0px 1px 2px rgba(60, 64, 67, 0.3), 0px 1px 3px 1px rgba(60, 64, 67, 0.15);\n",
              "        fill: #174EA6;\n",
              "      }\n",
              "\n",
              "      [theme=dark] .colab-df-generate {\n",
              "        background-color: #3B4455;\n",
              "        fill: #D2E3FC;\n",
              "      }\n",
              "\n",
              "      [theme=dark] .colab-df-generate:hover {\n",
              "        background-color: #434B5C;\n",
              "        box-shadow: 0px 1px 3px 1px rgba(0, 0, 0, 0.15);\n",
              "        filter: drop-shadow(0px 1px 2px rgba(0, 0, 0, 0.3));\n",
              "        fill: #FFFFFF;\n",
              "      }\n",
              "    </style>\n",
              "    <button class=\"colab-df-generate\" onclick=\"generateWithVariable('df')\"\n",
              "            title=\"Generate code using this dataframe.\"\n",
              "            style=\"display:none;\">\n",
              "\n",
              "  <svg xmlns=\"http://www.w3.org/2000/svg\" height=\"24px\"viewBox=\"0 0 24 24\"\n",
              "       width=\"24px\">\n",
              "    <path d=\"M7,19H8.4L18.45,9,17,7.55,7,17.6ZM5,21V16.75L18.45,3.32a2,2,0,0,1,2.83,0l1.4,1.43a1.91,1.91,0,0,1,.58,1.4,1.91,1.91,0,0,1-.58,1.4L9.25,21ZM18.45,9,17,7.55Zm-12,3A5.31,5.31,0,0,0,4.9,8.1,5.31,5.31,0,0,0,1,6.5,5.31,5.31,0,0,0,4.9,4.9,5.31,5.31,0,0,0,6.5,1,5.31,5.31,0,0,0,8.1,4.9,5.31,5.31,0,0,0,12,6.5,5.46,5.46,0,0,0,6.5,12Z\"/>\n",
              "  </svg>\n",
              "    </button>\n",
              "    <script>\n",
              "      (() => {\n",
              "      const buttonEl =\n",
              "        document.querySelector('#id_d4259e5e-1d53-4e99-b467-d7f331d154ab button.colab-df-generate');\n",
              "      buttonEl.style.display =\n",
              "        google.colab.kernel.accessAllowed ? 'block' : 'none';\n",
              "\n",
              "      buttonEl.onclick = () => {\n",
              "        google.colab.notebook.generateWithVariable('df');\n",
              "      }\n",
              "      })();\n",
              "    </script>\n",
              "  </div>\n",
              "\n",
              "    </div>\n",
              "  </div>\n"
            ],
            "application/vnd.google.colaboratory.intrinsic+json": {
              "type": "dataframe",
              "variable_name": "df",
              "summary": "{\n  \"name\": \"df\",\n  \"rows\": 17414,\n  \"fields\": [\n    {\n      \"column\": \"timestamp\",\n      \"properties\": {\n        \"dtype\": \"object\",\n        \"num_unique_values\": 17414,\n        \"samples\": [\n          \"2016-08-17 04:00:00\",\n          \"2016-04-08 07:00:00\",\n          \"2015-11-10 00:00:00\"\n        ],\n        \"semantic_type\": \"\",\n        \"description\": \"\"\n      }\n    },\n    {\n      \"column\": \"cnt\",\n      \"properties\": {\n        \"dtype\": \"number\",\n        \"std\": 1085,\n        \"min\": 0,\n        \"max\": 7860,\n        \"num_unique_values\": 3781,\n        \"samples\": [\n          1417,\n          2143,\n          3979\n        ],\n        \"semantic_type\": \"\",\n        \"description\": \"\"\n      }\n    },\n    {\n      \"column\": \"t1\",\n      \"properties\": {\n        \"dtype\": \"number\",\n        \"std\": 5.571817562920554,\n        \"min\": -1.5,\n        \"max\": 34.0,\n        \"num_unique_values\": 73,\n        \"samples\": [\n          1.5,\n          33.5,\n          4.5\n        ],\n        \"semantic_type\": \"\",\n        \"description\": \"\"\n      }\n    },\n    {\n      \"column\": \"t2\",\n      \"properties\": {\n        \"dtype\": \"number\",\n        \"std\": 6.615144673127985,\n        \"min\": -6.0,\n        \"max\": 34.0,\n        \"num_unique_values\": 82,\n        \"samples\": [\n          14.0,\n          2.0,\n          11.5\n        ],\n        \"semantic_type\": \"\",\n        \"description\": \"\"\n      }\n    },\n    {\n      \"column\": \"hum\",\n      \"properties\": {\n        \"dtype\": \"number\",\n        \"std\": 14.313186095311346,\n        \"min\": 20.5,\n        \"max\": 100.0,\n        \"num_unique_values\": 143,\n        \"samples\": [\n          29.5,\n          71.5,\n          40.0\n        ],\n        \"semantic_type\": \"\",\n        \"description\": \"\"\n      }\n    },\n    {\n      \"column\": \"wind_speed\",\n      \"properties\": {\n        \"dtype\": \"number\",\n        \"std\": 7.894570329361007,\n        \"min\": 0.0,\n        \"max\": 56.5,\n        \"num_unique_values\": 103,\n        \"samples\": [\n          30.0,\n          2.0,\n          23.5\n        ],\n        \"semantic_type\": \"\",\n        \"description\": \"\"\n      }\n    },\n    {\n      \"column\": \"weather_code\",\n      \"properties\": {\n        \"dtype\": \"number\",\n        \"std\": 2.3411632846457198,\n        \"min\": 1.0,\n        \"max\": 26.0,\n        \"num_unique_values\": 7,\n        \"samples\": [\n          3.0,\n          1.0,\n          26.0\n        ],\n        \"semantic_type\": \"\",\n        \"description\": \"\"\n      }\n    },\n    {\n      \"column\": \"is_holiday\",\n      \"properties\": {\n        \"dtype\": \"number\",\n        \"std\": 0.1468543671527554,\n        \"min\": 0.0,\n        \"max\": 1.0,\n        \"num_unique_values\": 2,\n        \"samples\": [\n          1.0,\n          0.0\n        ],\n        \"semantic_type\": \"\",\n        \"description\": \"\"\n      }\n    },\n    {\n      \"column\": \"is_weekend\",\n      \"properties\": {\n        \"dtype\": \"number\",\n        \"std\": 0.4516189175710551,\n        \"min\": 0.0,\n        \"max\": 1.0,\n        \"num_unique_values\": 2,\n        \"samples\": [\n          0.0,\n          1.0\n        ],\n        \"semantic_type\": \"\",\n        \"description\": \"\"\n      }\n    },\n    {\n      \"column\": \"season\",\n      \"properties\": {\n        \"dtype\": \"number\",\n        \"std\": 1.118910874827905,\n        \"min\": 0.0,\n        \"max\": 3.0,\n        \"num_unique_values\": 4,\n        \"samples\": [\n          0.0,\n          2.0\n        ],\n        \"semantic_type\": \"\",\n        \"description\": \"\"\n      }\n    }\n  ]\n}"
            }
          },
          "metadata": {},
          "execution_count": 12
        }
      ]
    },
    {
      "cell_type": "markdown",
      "source": [
        "Identify and remove null or missing values."
      ],
      "metadata": {
        "id": "84MW2XtXobEG"
      }
    },
    {
      "cell_type": "code",
      "source": [
        "df_cleaned = df.dropna()"
      ],
      "metadata": {
        "id": "obTKzGxMqdQE"
      },
      "execution_count": null,
      "outputs": []
    },
    {
      "cell_type": "markdown",
      "source": [
        "Standardize numerical fields (e.g., price, km) for consistency."
      ],
      "metadata": {
        "id": "hl62p3JbqluE"
      }
    },
    {
      "cell_type": "code",
      "source": [
        "df = pd.DataFrame(data)"
      ],
      "metadata": {
        "id": "yIkjo0SiqvzD"
      },
      "execution_count": null,
      "outputs": []
    },
    {
      "cell_type": "markdown",
      "source": [
        "Convert string fields like registration into proper datetime objects."
      ],
      "metadata": {
        "id": "oaTrgk5TsT5J"
      }
    },
    {
      "cell_type": "code",
      "source": [
        "df = pd.to_datetime"
      ],
      "metadata": {
        "id": "tFWwbamztEfw"
      },
      "execution_count": null,
      "outputs": []
    },
    {
      "cell_type": "markdown",
      "source": [
        "Calculate mean, median, and standard deviation for price and km."
      ],
      "metadata": {
        "id": "5drXCdrvtUnQ"
      }
    },
    {
      "cell_type": "code",
      "source": [
        "import pandas as pd\n",
        "data = pd.read_csv('/content/dataset.csv')"
      ],
      "metadata": {
        "id": "hNTo5r7TRBg1"
      },
      "execution_count": null,
      "outputs": []
    },
    {
      "cell_type": "code",
      "source": [
        "\n",
        "print(data.columns)\n",
        "\n"
      ],
      "metadata": {
        "colab": {
          "base_uri": "https://localhost:8080/"
        },
        "id": "r71yfDNSRuP2",
        "outputId": "272c1ab2-eacd-43d9-a750-c17deed6fb74"
      },
      "execution_count": null,
      "outputs": [
        {
          "output_type": "stream",
          "name": "stdout",
          "text": [
            "Index(['timestamp', 'cnt', 't1', 't2', 'hum', 'wind_speed', 'weather_code',\n",
            "       'is_holiday', 'is_weekend', 'season'],\n",
            "      dtype='object')\n"
          ]
        }
      ]
    },
    {
      "cell_type": "markdown",
      "source": [
        "Count the frequency of each make_model."
      ],
      "metadata": {
        "id": "lkvFX2t8Si9W"
      }
    },
    {
      "cell_type": "code",
      "source": [
        "import pandas as pd\n",
        "\n",
        "# Sample data (replace with your actual data)\n",
        "data = {'Column_1': ['timestamp', 'cnt', 't1', 't2', 'hum', 'wind_speed', 'weather_code']}\n",
        "\n",
        "# Create a DataFrame\n",
        "df = pd.DataFrame(data)\n",
        "\n",
        "# Count the frequency of each make_model\n",
        "make_model_counts = df['Column_1'].value_counts()\n",
        "\n",
        "# Print the results\n",
        "print(make_model_counts)"
      ],
      "metadata": {
        "colab": {
          "base_uri": "https://localhost:8080/"
        },
        "id": "t5wFJjOUS2q-",
        "outputId": "eb10ac85-b32e-4c6c-e6e5-3ac6075b5dd6"
      },
      "execution_count": null,
      "outputs": [
        {
          "output_type": "stream",
          "name": "stdout",
          "text": [
            "Column_1\n",
            "timestamp       1\n",
            "cnt             1\n",
            "t1              1\n",
            "t2              1\n",
            "hum             1\n",
            "wind_speed      1\n",
            "weather_code    1\n",
            "Name: count, dtype: int64\n"
          ]
        }
      ]
    },
    {
      "cell_type": "markdown",
      "source": [
        "Plot the distribution of price and km."
      ],
      "metadata": {
        "id": "i8-eZGgvUFEG"
      }
    },
    {
      "cell_type": "code",
      "source": [
        "import pandas as pd\n",
        "import numpy as np\n",
        "import matplotlib.pyplot as plt\n",
        "import seaborn as sns\n",
        "\n",
        "# Sample data (replace with your actual data)\n",
        "# You need to include 'price' and 'km' columns in your data\n",
        "data = {'Column_1': ['timestamp', 'cnt', 't1', 't2', 'hum', 'wind_speed', 'weather_code'],\n",
        "        'price': [20000, 25000, 18000, 22000, 28000, 16000, 23000],  # Add price data\n",
        "        'km': [50000, 40000, 60000, 55000, 35000, 70000, 45000]}  # Add km data\n",
        "\n",
        "# Create a DataFrame\n",
        "df = pd.DataFrame(data)\n",
        "\n",
        "# Count the frequency of each make_model\n",
        "make_model_counts = df['Column_1'].value_counts()\n",
        "print(make_model_counts)\n",
        "\n",
        "# Calculate mean, median, and standard deviation for price\n",
        "print(\"Price Statistics:\")\n",
        "print(\"Mean:\", df['price'].mean())\n",
        "print(\"Median:\", df['price'].median())\n",
        "print(\"Standard Deviation:\", df['price'].std())\n",
        "\n",
        "# Calculate mean, median, and standard deviation for km\n",
        "print(\"\\nKM Statistics:\")\n",
        "print(\"Mean:\", df['km'].mean())\n",
        "print(\"Median:\", df['km'].median())\n",
        "print(\"Standard Deviation:\", df['km'].std())\n",
        "\n",
        "# Plot price distribution\n",
        "sns.histplot(df['price'], kde=True).set(title='Price Distribution')\n",
        "plt.show()\n",
        "\n",
        "# Plot km distribution\n",
        "sns.histplot(df['km'], kde=True).set(title='KM Distribution')\n",
        "plt.show()"
      ],
      "metadata": {
        "colab": {
          "base_uri": "https://localhost:8080/",
          "height": 1000
        },
        "id": "Am-sz0V0WGQW",
        "outputId": "210134fd-d260-4fa6-cbc0-b285b9707d0d"
      },
      "execution_count": null,
      "outputs": [
        {
          "output_type": "stream",
          "name": "stdout",
          "text": [
            "Column_1\n",
            "timestamp       1\n",
            "cnt             1\n",
            "t1              1\n",
            "t2              1\n",
            "hum             1\n",
            "wind_speed      1\n",
            "weather_code    1\n",
            "Name: count, dtype: int64\n",
            "Price Statistics:\n",
            "Mean: 21714.285714285714\n",
            "Median: 22000.0\n",
            "Standard Deviation: 4111.540089159038\n",
            "\n",
            "KM Statistics:\n",
            "Mean: 50714.28571428572\n",
            "Median: 50000.0\n",
            "Standard Deviation: 12051.476890327394\n"
          ]
        },
        {
          "output_type": "display_data",
          "data": {
            "text/plain": [
              "<Figure size 640x480 with 1 Axes>"
            ],
            "image/png": "[encoded data removed]"
          },
          "metadata": {}
        },
        {
          "output_type": "display_data",
          "data": {
            "text/plain": [
              "<Figure size 640x480 with 1 Axes>"
            ],
            "image/png": "[encoded data removed]"
          },
          "metadata": {}
        }
      ]
    },
    {
      "cell_type": "markdown",
      "source": [
        "Analyze the average price by body_type."
      ],
      "metadata": {
        "id": "6XSGlN89WfDX"
      }
    },
    {
      "cell_type": "code",
      "source": [
        "import pandas as pd\n",
        "\n",
        "# Sample data (replace with your actual data)\n",
        "data ={'Column_1': ['timestamp', 'cnt', 't1', 't2', 'hum', 'wind_speed', 'weather_code']}\n",
        "\n",
        "# Create a DataFrame\n",
        "df = pd.DataFrame(data)\n",
        "\n",
        "# Group the data by body_type and calculate the mean price for each group\n",
        "average_Column_1 = df.groupby('Column_1').mean()\n",
        "\n",
        "# Print the results\n",
        "print(average_Column_1)"
      ],
      "metadata": {
        "colab": {
          "base_uri": "https://localhost:8080/"
        },
        "id": "XQs7onthWgiv",
        "outputId": "ca259b9d-4e5c-431f-9623-f5b1faa08b0b"
      },
      "execution_count": null,
      "outputs": [
        {
          "output_type": "stream",
          "name": "stdout",
          "text": [
            "Empty DataFrame\n",
            "Columns: []\n",
            "Index: [cnt, hum, t1, t2, timestamp, weather_code, wind_speed]\n"
          ]
        }
      ]
    },
    {
      "cell_type": "markdown",
      "source": [
        "\tIdentify correlations between numerical variables, such as price and km."
      ],
      "metadata": {
        "id": "Qj1e4iiLXNTP"
      }
    },
    {
      "cell_type": "code",
      "source": [
        "import pandas as pd\n",
        "import seaborn as sns\n",
        "import matplotlib.pyplot as plt\n",
        "\n",
        "# Sample data (replace with your actual data)\n",
        "# Assuming you have numerical data in other columns for correlation analysis\n",
        "data = {'Column_1': ['timestamp', 'cnt', 't1', 't2', 'hum', 'wind_speed', 'weather_code'],\n",
        "        'price': [20000, 25000, 18000, 22000, 28000, 16000, 23000],\n",
        "        'km': [50000, 40000, 60000, 55000, 35000, 70000, 45000]}\n",
        "\n",
        "# Create a DataFrame\n",
        "df = pd.DataFrame(data)\n",
        "\n",
        "# Select numerical columns for correlation analysis\n",
        "numerical_df = df[['price', 'km']] # Select columns with numerical data\n",
        "\n",
        "# Calculate the correlation matrix using only numerical data\n",
        "correlation_matrix = numerical_df.corr()\n",
        "\n",
        "# Print the correlation matrix\n",
        "print(correlation_matrix)\n",
        "\n",
        "# Visualize the correlation matrix using a heatmap\n",
        "sns.heatmap(correlation_matrix, annot=True, cmap='coolwarm')\n",
        "plt.title('Correlation Matrix')\n",
        "plt.show()"
      ],
      "metadata": {
        "colab": {
          "base_uri": "https://localhost:8080/",
          "height": 504
        },
        "id": "qB8Aa9seXf_v",
        "outputId": "fdaa5ddf-0ba3-4d10-d58e-ce1b0c8565b0"
      },
      "execution_count": null,
      "outputs": [
        {
          "output_type": "stream",
          "name": "stdout",
          "text": [
            "         price       km\n",
            "price  1.00000 -0.95382\n",
            "km    -0.95382  1.00000\n"
          ]
        },
        {
          "output_type": "display_data",
          "data": {
            "text/plain": [
              "<Figure size 640x480 with 2 Axes>"
            ],
            "image/png": "[encoded data removed]"
          },
          "metadata": {}
        }
      ]
    },
    {
      "cell_type": "markdown",
      "source": [
        "Create a scatter plot to show the relationship between price and km."
      ],
      "metadata": {
        "id": "LtdW2tX9X3aX"
      }
    },
    {
      "cell_type": "code",
      "source": [
        "import pandas as pd\n",
        "import matplotlib.pyplot as plt\n",
        "\n",
        "# Sample data (replace with your actual data)\n",
        "data = {'price': [20000, 25000, 18000, 22000, 28000, 16000],\n",
        "        'km': [50000, 40000, 60000, 55000, 35000, 70000]}\n",
        "\n",
        "# Create a DataFrame\n",
        "df = pd.DataFrame(data)\n",
        "\n",
        "# Create a scatter plot\n",
        "plt.scatter(df['km'], df['price'])\n",
        "plt.xlabel('KM')\n",
        "plt.ylabel('Price')\n",
        "plt.title('Price vs KM')\n",
        "plt.show()"
      ],
      "metadata": {
        "colab": {
          "base_uri": "https://localhost:8080/",
          "height": 472
        },
        "id": "CFYreEN0X-3v",
        "outputId": "2adbd635-1275-4b9b-e304-aeea2a937d74"
      },
      "execution_count": null,
      "outputs": [
        {
          "output_type": "display_data",
          "data": {
            "text/plain": [
              "<Figure size 640x480 with 1 Axes>"
            ],
            "image/png": "[encoded data removed]"
          },
          "metadata": {}
        }
      ]
    },
    {
      "cell_type": "markdown",
      "source": [
        "Use a bar chart to compare the average price of different body_type."
      ],
      "metadata": {
        "id": "a1J-MXedYNjX"
      }
    },
    {
      "cell_type": "code",
      "source": [
        "import pandas as pd\n",
        "import matplotlib.pyplot as plt\n",
        "\n",
        "# Sample data (replace with your actual data)\n",
        "# Include price data for your analysis\n",
        "data = {'Column_1': ['timestamp', 'cnt', 't1', 't2', 'hum', 'wind_speed', 'weather_code'],\n",
        "        'price': [20000, 25000, 18000, 22000, 28000, 16000, 23000]}\n",
        "\n",
        "# Create a DataFrame\n",
        "df = pd.DataFrame(data)\n",
        "\n",
        "# Group the data by body_type and calculate the mean price for each group\n",
        "average_price_by_body_type = df.groupby('Column_1')['price'].mean()\n",
        "\n",
        "# Create a bar chart\n",
        "average_price_by_body_type.plot(kind='bar')\n",
        "plt.xlabel('Body Type')\n",
        "plt.ylabel('Average Price')\n",
        "plt.title('Average Price by Body Type')\n",
        "plt.show()"
      ],
      "metadata": {
        "colab": {
          "base_uri": "https://localhost:8080/",
          "height": 555
        },
        "id": "ObuRNjznYRyP",
        "outputId": "5e6fcae5-6105-4ac8-8843-e0cba4c618e0"
      },
      "execution_count": null,
      "outputs": [
        {
          "output_type": "display_data",
          "data": {
            "text/plain": [
              "<Figure size 640x480 with 1 Axes>"
            ],
            "image/png": "[encoded data removed]"
          },
          "metadata": {}
        }
      ]
    },
    {
      "cell_type": "markdown",
      "source": [
        "Display a pie chart for the proportion of different make_model."
      ],
      "metadata": {
        "id": "lawOZNQTYkSv"
      }
    },
    {
      "cell_type": "code",
      "source": [
        "import pandas as pd\n",
        "import matplotlib.pyplot as plt\n",
        "\n",
        "# Sample data (replace with your actual data)\n",
        "data ={'Column_1': ['timestamp', 'cnt', 't1', 't2', 'hum', 'wind_speed', 'weather_code']}\n",
        "\n",
        "# Create a DataFrame\n",
        "df = pd.DataFrame(data)\n",
        "\n",
        "# Count the frequency of each make_model\n",
        "make_model_counts = df['Column_1'].value_counts()\n",
        "\n",
        "# Create a pie chart\n",
        "plt.pie(make_model_counts, labels=make_model_counts.index, autopct='%1.1f%%')\n",
        "plt.title('Proportion of Different Make-Models')\n",
        "plt.show()"
      ],
      "metadata": {
        "colab": {
          "base_uri": "https://localhost:8080/",
          "height": 428
        },
        "id": "86NIgR3fYoPX",
        "outputId": "8cf6b416-fbe4-43cd-8d32-197be493bcbb"
      },
      "execution_count": null,
      "outputs": [
        {
          "output_type": "display_data",
          "data": {
            "text/plain": [
              "<Figure size 640x480 with 1 Axes>"
            ],
            "image/png": "[encoded data removed]"
          },
          "metadata": {}
        }
      ]
    },
    {
      "cell_type": "markdown",
      "source": [
        "Create a new column for the age of the car using the registration field."
      ],
      "metadata": {
        "id": "J-5eZf3FZT1b"
      }
    },
    {
      "cell_type": "code",
      "source": [
        "import pandas as pd\n",
        "from datetime import datetime\n",
        "\n",
        "# Load the dataset\n",
        "df = pd.read_csv('dataset.csv')\n",
        "\n",
        "# Convert the 'timestamp' column to datetime format\n",
        "df['timestamp'] = pd.to_datetime(df['timestamp'])\n",
        "\n",
        "# Calculate the age of the car in years\n",
        "current_date = datetime.now()\n",
        "df['age'] = current_date.year - df['timestamp'].dt.year\n",
        "\n",
        "# Print the DataFrame with the new 'age' column\n",
        "print(df[['timestamp', 'age']])"
      ],
      "metadata": {
        "colab": {
          "base_uri": "https://localhost:8080/"
        },
        "id": "rI_E3blIZb73",
        "outputId": "4763854b-cfea-43d8-ca64-250be5373ef2"
      },
      "execution_count": null,
      "outputs": [
        {
          "output_type": "stream",
          "name": "stdout",
          "text": [
            "                timestamp  age\n",
            "0     2015-01-04 00:00:00    9\n",
            "1     2015-01-04 01:00:00    9\n",
            "2     2015-01-04 02:00:00    9\n",
            "3     2015-01-04 03:00:00    9\n",
            "4     2015-01-04 04:00:00    9\n",
            "...                   ...  ...\n",
            "17409 2017-01-03 19:00:00    7\n",
            "17410 2017-01-03 20:00:00    7\n",
            "17411 2017-01-03 21:00:00    7\n",
            "17412 2017-01-03 22:00:00    7\n",
            "17413 2017-01-03 23:00:00    7\n",
            "\n",
            "[17414 rows x 2 columns]\n"
          ]
        }
      ]
    },
    {
      "cell_type": "markdown",
      "source": [
        "Generate a price_per_km column to assess cost efficiency"
      ],
      "metadata": {
        "id": "uXzB8rTNaCdQ"
      }
    },
    {
      "cell_type": "code",
      "source": [
        "import pandas as pd\n",
        "\n",
        "# Sample data (replace with your actual data)\n",
        "data = {'price': [20000, 25000, 18000, 22000, 28000, 16000],\n",
        "        'km': [50000, 40000, 60000, 55000, 35000, 70000]}\n",
        "\n",
        "# Create a DataFrame\n",
        "df = pd.DataFrame(data)\n",
        "\n",
        "# Calculate the price per km\n",
        "df['price_per_km'] = df['price'] / df['km']\n",
        "\n",
        "# Print the DataFrame with the new 'price_per_km' column\n",
        "print(df)"
      ],
      "metadata": {
        "colab": {
          "base_uri": "https://localhost:8080/"
        },
        "id": "Na6Vf4ltaGFA",
        "outputId": "89b02959-f6d0-47bc-ebc7-32050ff774b1"
      },
      "execution_count": null,
      "outputs": [
        {
          "output_type": "stream",
          "name": "stdout",
          "text": [
            "   price     km  price_per_km\n",
            "0  20000  50000      0.400000\n",
            "1  25000  40000      0.625000\n",
            "2  18000  60000      0.300000\n",
            "3  22000  55000      0.400000\n",
            "4  28000  35000      0.800000\n",
            "5  16000  70000      0.228571\n"
          ]
        }
      ]
    },
    {
      "cell_type": "markdown",
      "source": [
        "Create categories for cars based on price (e.g., low, mid, high)."
      ],
      "metadata": {
        "id": "N12Kf3XiaTIv"
      }
    },
    {
      "cell_type": "code",
      "source": [
        "import pandas as pd\n",
        "\n",
        "# Sample data (replace with your actual data)\n",
        "data = {'price': [20000, 25000, 18000, 22000, 28000, 16000]}\n",
        "\n",
        "# Create a DataFrame\n",
        "df = pd.DataFrame(data)\n",
        "\n",
        "# Define price categories\n",
        "def categorize_price(price):\n",
        "    if price <= 18000:\n",
        "        return 'Low'\n",
        "    elif price <= 25000:\n",
        "        return 'Mid'\n",
        "    else:\n",
        "        return 'High'\n",
        "\n",
        "# Create a new column 'price_category'\n",
        "df['price_category'] = df['price'].apply(categorize_price)\n",
        "\n",
        "# Print the DataFrame with the new 'price_category' column\n",
        "print(df)"
      ],
      "metadata": {
        "colab": {
          "base_uri": "https://localhost:8080/"
        },
        "id": "EJd8dQgYahRk",
        "outputId": "986cf696-689d-4287-cb55-593f7d875567"
      },
      "execution_count": null,
      "outputs": [
        {
          "output_type": "stream",
          "name": "stdout",
          "text": [
            "   price price_category\n",
            "0  20000            Mid\n",
            "1  25000            Mid\n",
            "2  18000            Low\n",
            "3  22000            Mid\n",
            "4  28000           High\n",
            "5  16000            Low\n"
          ]
        }
      ]
    },
    {
      "cell_type": "markdown",
      "source": [
        "Identify vehicles with specific features such as “VAT deductible”"
      ],
      "metadata": {
        "id": "w71Wf8CpasC4"
      }
    },
    {
      "cell_type": "code",
      "source": [
        "import pandas as pd\n",
        "\n",
        "# Sample data (replace with your actual data)\n",
        "data = {'car_id': [1, 2, 3, 4, 5],\n",
        "        'price': [20000, 25000, 18000, 22000, 28000],\n",
        "        'features': ['VAT deductible', 'Leather seats', 'Sunroof', 'VAT deductible', '4WD']}\n",
        "\n",
        "# Create a DataFrame\n",
        "df = pd.DataFrame(data)\n",
        "\n",
        "# Filter cars with 'VAT deductible' feature\n",
        "vat_deductible_cars = df[df['features'].str.contains('VAT deductible')]\n",
        "\n",
        "# Print the filtered cars\n",
        "print(vat_deductible_cars)"
      ],
      "metadata": {
        "colab": {
          "base_uri": "https://localhost:8080/"
        },
        "id": "LjMJa1CzawqQ",
        "outputId": "5e9c5a34-6c43-4199-a48e-07c0a4fa5b06"
      },
      "execution_count": null,
      "outputs": [
        {
          "output_type": "stream",
          "name": "stdout",
          "text": [
            "   car_id  price        features\n",
            "0       1  20000  VAT deductible\n",
            "3       4  22000  VAT deductible\n"
          ]
        }
      ]
    },
    {
      "cell_type": "markdown",
      "source": [
        "Identify the most common car models in the dataset."
      ],
      "metadata": {
        "id": "nss2xE6fbM3I"
      }
    },
    {
      "cell_type": "code",
      "source": [
        "import pandas as pd\n",
        "\n",
        "# Sample data (replace with your actual data)\n",
        "data = {'car_model': ['Honda Civic', 'Toyota Corolla', 'Ford Focus', 'Honda Civic', 'Toyota Corolla', 'Ford Fiesta', 'Honda Civic']}\n",
        "\n",
        "# Create a DataFrame\n",
        "df = pd.DataFrame(data)\n",
        "\n",
        "# Count the frequency of each car model\n",
        "model_counts = df['car_model'].value_counts()\n",
        "\n",
        "# Find the most common car model(s)\n",
        "most_common_models = model_counts[model_counts == model_counts.max()]\n",
        "\n",
        "print(most_common_models)"
      ],
      "metadata": {
        "colab": {
          "base_uri": "https://localhost:8080/"
        },
        "id": "AJYcjIrAbQYM",
        "outputId": "602abd68-0df5-41ff-b205-ff6bea647377"
      },
      "execution_count": null,
      "outputs": [
        {
          "output_type": "stream",
          "name": "stdout",
          "text": [
            "car_model\n",
            "Honda Civic    3\n",
            "Name: count, dtype: int64\n"
          ]
        }
      ]
    },
    {
      "cell_type": "markdown",
      "source": [
        "Highlight the cars that provide the best value for money (low price_per_km)."
      ],
      "metadata": {
        "id": "JP4zDgX_beYA"
      }
    },
    {
      "cell_type": "code",
      "source": [
        "import pandas as pd\n",
        "\n",
        "# Sample data (replace with your actual data)\n",
        "data = {'car_id': [1, 2, 3, 4, 5],\n",
        "        'price': [20000, 25000, 18000, 22000, 28000],\n",
        "        'km': [50000, 40000, 60000, 55000, 35000]}\n",
        "\n",
        "# Create a DataFrame\n",
        "df = pd.DataFrame(data)\n",
        "\n",
        "# Calculate the price per km\n",
        "df['price_per_km'] = df['price'] / df['km']\n",
        "\n",
        "# Sort the DataFrame by price_per_km in ascending order\n",
        "df_sorted = df.sort_values(by='price_per_km')\n",
        "\n",
        "# Print the top 3 cars with the lowest price_per_km\n",
        "print(df_sorted.head(3))"
      ],
      "metadata": {
        "colab": {
          "base_uri": "https://localhost:8080/"
        },
        "id": "LzFkwPE4biog",
        "outputId": "44f5412a-5960-45a1-ba62-3cd61767a7ac"
      },
      "execution_count": null,
      "outputs": [
        {
          "output_type": "stream",
          "name": "stdout",
          "text": [
            "   car_id  price     km  price_per_km\n",
            "2       3  18000  60000           0.3\n",
            "0       1  20000  50000           0.4\n",
            "3       4  22000  55000           0.4\n"
          ]
        }
      ]
    },
    {
      "cell_type": "markdown",
      "source": [
        "Find the average price and mileage for VAT-deductible vehicles"
      ],
      "metadata": {
        "id": "HkhdLl5PbqU7"
      }
    },
    {
      "cell_type": "code",
      "source": [
        "import pandas as pd\n",
        "\n",
        "# Sample data (replace with your actual data)\n",
        "data = {'car_id': [1, 2, 3, 4, 5],\n",
        "        'price': [20000, 25000, 18000, 22000, 28000],\n",
        "        'km': [50000, 40000, 60000, 55000, 35000],\n",
        "        'features': ['VAT deductible', 'Leather seats', 'Sunroof', 'VAT deductible', '4WD']}\n",
        "\n",
        "# Create a DataFrame\n",
        "df = pd.DataFrame(data)\n",
        "\n",
        "# Filter VAT-deductible cars\n",
        "vat_deductible_cars = df[df['features'].str.contains('VAT deductible')]\n",
        "\n",
        "# Calculate average price and mileage\n",
        "avg_price = vat_deductible_cars['price'].mean()\n",
        "avg_mileage = vat_deductible_cars['km'].mean()\n",
        "\n",
        "print(\"Average Price of VAT-Deductible Cars:\", avg_price)\n",
        "print(\"Average Mileage of VAT-Deductible Cars:\", avg_mileage)"
      ],
      "metadata": {
        "colab": {
          "base_uri": "https://localhost:8080/"
        },
        "id": "cSO0GPwPbt44",
        "outputId": "ac433623-bce4-4f97-9f5b-b670a05829b0"
      },
      "execution_count": null,
      "outputs": [
        {
          "output_type": "stream",
          "name": "stdout",
          "text": [
            "Average Price of VAT-Deductible Cars: 21000.0\n",
            "Average Mileage of VAT-Deductible Cars: 52500.0\n"
          ]
        }
      ]
    },
    {
      "cell_type": "markdown",
      "source": [
        "Group the vehicles based on attributes like price, km, and age."
      ],
      "metadata": {
        "id": "Wl3ubw24b5UA"
      }
    },
    {
      "cell_type": "code",
      "source": [
        "import pandas as pd\n",
        "\n",
        "# Sample data (replace with your actual data)\n",
        "data = {'car_id': [1, 2, 3, 4, 5],\n",
        "        'price': [20000, 25000, 18000, 22000, 28000],\n",
        "        'km': [50000, 40000, 60000, 55000, 35000],\n",
        "        'age': [5, 7, 3, 6, 2]}\n",
        "\n",
        "# Create a DataFrame\n",
        "df = pd.DataFrame(data)\n",
        "\n",
        "# Group by price range\n",
        "df['price_group'] = pd.cut(df['price'], bins=[0, 15000, 25000, float('inf')], labels=['Low', 'Medium', 'High'])\n",
        "\n",
        "# Group by km range\n",
        "df['km_group'] = pd.cut(df['km'], bins=[0, 40000, 60000, float('inf')], labels=['Low', 'Medium', 'High'])\n",
        "\n",
        "# Group by age range\n",
        "df['age_group'] = pd.cut(df['age'], bins=[0, 3, 5, float('inf')], labels=['New', 'Medium', 'Old'])\n",
        "\n",
        "print(df)"
      ],
      "metadata": {
        "colab": {
          "base_uri": "https://localhost:8080/"
        },
        "id": "w0d7LTgmb9HA",
        "outputId": "786caec9-04d1-4852-d790-7ab03140e640"
      },
      "execution_count": null,
      "outputs": [
        {
          "output_type": "stream",
          "name": "stdout",
          "text": [
            "   car_id  price     km  age price_group km_group age_group\n",
            "0       1  20000  50000    5      Medium   Medium    Medium\n",
            "1       2  25000  40000    7      Medium      Low       Old\n",
            "2       3  18000  60000    3      Medium   Medium       New\n",
            "3       4  22000  55000    6      Medium   Medium       Old\n",
            "4       5  28000  35000    2        High      Low       New\n"
          ]
        }
      ]
    }
  ]
}
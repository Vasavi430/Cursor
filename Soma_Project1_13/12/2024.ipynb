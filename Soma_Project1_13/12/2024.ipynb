{
  "nbformat": 4,
  "nbformat_minor": 0,
  "metadata": {
    "colab": {
      "provenance": [],
      "authorship_tag": "ABX9TyPR61LrggVAN6hq0RCsnsmn",
      "include_colab_link": true
    },
    "kernelspec": {
      "name": "python3",
      "display_name": "Python 3"
    },
    "language_info": {
      "name": "python"
    }
  },
  "cells": [
    {
      "cell_type": "markdown",
      "metadata": {
        "id": "view-in-github",
        "colab_type": "text"
      },
      "source": [
        "<a href=\"https://colab.research.google.com/github/Vasavi430/Cursor/blob/main/Soma_Project1_13/12/2024.ipynb\" target=\"_parent\"><img src=\"https://colab.research.google.com/assets/colab-badge.svg\" alt=\"Open In Colab\"/></a>"
      ]
    },
    {
      "cell_type": "code",
      "execution_count": 30,
      "metadata": {
        "id": "JZmTcHoumQTB"
      },
      "outputs": [],
      "source": [
        "\n",
        "import pandas as pd\n",
        "data = pd.read_csv('/content/sample_sales_data.csv')"
      ]
    },
    {
      "cell_type": "markdown",
      "source": [
        "# Assignment Tasks:\n",
        "\n",
        "# 1. Data Loading and ***Inspection***"
      ],
      "metadata": {
        "id": "Itw5Ug2cn3I0"
      }
    },
    {
      "cell_type": "markdown",
      "source": [
        "1. Load the dataset into a Pandas DataFrame"
      ],
      "metadata": {
        "id": "mnEL-oKjoBx7"
      }
    },
    {
      "cell_type": "code",
      "source": [
        "# prompt: 1. Load the dataset into a Pandas DataFrame\n",
        "\n",
        "import pandas as pd\n",
        "\n",
        "# Assuming the CSV file is in the current working directory or you provide the full path\n",
        "data = pd.read_csv('/content/sample_sales_data.csv')"
      ],
      "metadata": {
        "id": "zSwPR_L_oMJ0"
      },
      "execution_count": 31,
      "outputs": []
    },
    {
      "cell_type": "markdown",
      "source": [
        "Display the first 10 rows of the dataset."
      ],
      "metadata": {
        "id": "RiHk8EhDoXcE"
      }
    },
    {
      "cell_type": "code",
      "source": [
        "# prompt: Display the first 10 rows of the dataset.\n",
        "\n",
        "data.head(10)"
      ],
      "metadata": {
        "colab": {
          "base_uri": "https://localhost:8080/",
          "height": 363
        },
        "id": "FQv_vw7oobYE",
        "outputId": "96e1c4eb-46b8-4085-ac7a-a9b1a1b3aef9"
      },
      "execution_count": 32,
      "outputs": [
        {
          "output_type": "execute_result",
          "data": {
            "text/plain": [
              "   Order ID  Order Date Product Category Product Name  Quantity   Price  \\\n",
              "0  ORD00001  2023-04-13             Toys    Product 1         9  426.95   \n",
              "1  ORD00002  2023-12-15             Toys    Product 2         7  468.46   \n",
              "2  ORD00003  2023-09-28             Toys    Product 3         1  394.82   \n",
              "3  ORD00004  2023-04-17          Apparel    Product 4         1  337.80   \n",
              "4  ORD00005  2023-03-13          Apparel    Product 5         9  294.54   \n",
              "5  ORD00006  2023-07-08          Apparel    Product 6         9  192.42   \n",
              "6  ORD00007  2023-01-21      Electronics    Product 7         4  470.67   \n",
              "7  ORD00008  2023-04-13             Toys    Product 8         9  487.10   \n",
              "8  ORD00009  2023-05-02          Apparel    Product 9         3  149.12   \n",
              "9  ORD00010  2023-08-03          Apparel   Product 10         7  159.63   \n",
              "\n",
              "  Region Customer ID  Total Sales  \n",
              "0   West    CUST0032      3842.55  \n",
              "1   West    CUST0001      3279.22  \n",
              "2  South    CUST0005       394.82  \n",
              "3   East    CUST0045       337.80  \n",
              "4   East    CUST0004      2650.86  \n",
              "5   East    CUST0016      1731.78  \n",
              "6   West    CUST0024      1882.68  \n",
              "7   West    CUST0016      4383.90  \n",
              "8   West    CUST0002       447.36  \n",
              "9  North    CUST0049      1117.41  "
            ],
            "text/html": [
              "\n",
              "  <div id=\"df-60d703d0-27d5-4f18-9d83-4e2bca53ae87\" class=\"colab-df-container\">\n",
              "    <div>\n",
              "<style scoped>\n",
              "    .dataframe tbody tr th:only-of-type {\n",
              "        vertical-align: middle;\n",
              "    }\n",
              "\n",
              "    .dataframe tbody tr th {\n",
              "        vertical-align: top;\n",
              "    }\n",
              "\n",
              "    .dataframe thead th {\n",
              "        text-align: right;\n",
              "    }\n",
              "</style>\n",
              "<table border=\"1\" class=\"dataframe\">\n",
              "  <thead>\n",
              "    <tr style=\"text-align: right;\">\n",
              "      <th></th>\n",
              "      <th>Order ID</th>\n",
              "      <th>Order Date</th>\n",
              "      <th>Product Category</th>\n",
              "      <th>Product Name</th>\n",
              "      <th>Quantity</th>\n",
              "      <th>Price</th>\n",
              "      <th>Region</th>\n",
              "      <th>Customer ID</th>\n",
              "      <th>Total Sales</th>\n",
              "    </tr>\n",
              "  </thead>\n",
              "  <tbody>\n",
              "    <tr>\n",
              "      <th>0</th>\n",
              "      <td>ORD00001</td>\n",
              "      <td>2023-04-13</td>\n",
              "      <td>Toys</td>\n",
              "      <td>Product 1</td>\n",
              "      <td>9</td>\n",
              "      <td>426.95</td>\n",
              "      <td>West</td>\n",
              "      <td>CUST0032</td>\n",
              "      <td>3842.55</td>\n",
              "    </tr>\n",
              "    <tr>\n",
              "      <th>1</th>\n",
              "      <td>ORD00002</td>\n",
              "      <td>2023-12-15</td>\n",
              "      <td>Toys</td>\n",
              "      <td>Product 2</td>\n",
              "      <td>7</td>\n",
              "      <td>468.46</td>\n",
              "      <td>West</td>\n",
              "      <td>CUST0001</td>\n",
              "      <td>3279.22</td>\n",
              "    </tr>\n",
              "    <tr>\n",
              "      <th>2</th>\n",
              "      <td>ORD00003</td>\n",
              "      <td>2023-09-28</td>\n",
              "      <td>Toys</td>\n",
              "      <td>Product 3</td>\n",
              "      <td>1</td>\n",
              "      <td>394.82</td>\n",
              "      <td>South</td>\n",
              "      <td>CUST0005</td>\n",
              "      <td>394.82</td>\n",
              "    </tr>\n",
              "    <tr>\n",
              "      <th>3</th>\n",
              "      <td>ORD00004</td>\n",
              "      <td>2023-04-17</td>\n",
              "      <td>Apparel</td>\n",
              "      <td>Product 4</td>\n",
              "      <td>1</td>\n",
              "      <td>337.80</td>\n",
              "      <td>East</td>\n",
              "      <td>CUST0045</td>\n",
              "      <td>337.80</td>\n",
              "    </tr>\n",
              "    <tr>\n",
              "      <th>4</th>\n",
              "      <td>ORD00005</td>\n",
              "      <td>2023-03-13</td>\n",
              "      <td>Apparel</td>\n",
              "      <td>Product 5</td>\n",
              "      <td>9</td>\n",
              "      <td>294.54</td>\n",
              "      <td>East</td>\n",
              "      <td>CUST0004</td>\n",
              "      <td>2650.86</td>\n",
              "    </tr>\n",
              "    <tr>\n",
              "      <th>5</th>\n",
              "      <td>ORD00006</td>\n",
              "      <td>2023-07-08</td>\n",
              "      <td>Apparel</td>\n",
              "      <td>Product 6</td>\n",
              "      <td>9</td>\n",
              "      <td>192.42</td>\n",
              "      <td>East</td>\n",
              "      <td>CUST0016</td>\n",
              "      <td>1731.78</td>\n",
              "    </tr>\n",
              "    <tr>\n",
              "      <th>6</th>\n",
              "      <td>ORD00007</td>\n",
              "      <td>2023-01-21</td>\n",
              "      <td>Electronics</td>\n",
              "      <td>Product 7</td>\n",
              "      <td>4</td>\n",
              "      <td>470.67</td>\n",
              "      <td>West</td>\n",
              "      <td>CUST0024</td>\n",
              "      <td>1882.68</td>\n",
              "    </tr>\n",
              "    <tr>\n",
              "      <th>7</th>\n",
              "      <td>ORD00008</td>\n",
              "      <td>2023-04-13</td>\n",
              "      <td>Toys</td>\n",
              "      <td>Product 8</td>\n",
              "      <td>9</td>\n",
              "      <td>487.10</td>\n",
              "      <td>West</td>\n",
              "      <td>CUST0016</td>\n",
              "      <td>4383.90</td>\n",
              "    </tr>\n",
              "    <tr>\n",
              "      <th>8</th>\n",
              "      <td>ORD00009</td>\n",
              "      <td>2023-05-02</td>\n",
              "      <td>Apparel</td>\n",
              "      <td>Product 9</td>\n",
              "      <td>3</td>\n",
              "      <td>149.12</td>\n",
              "      <td>West</td>\n",
              "      <td>CUST0002</td>\n",
              "      <td>447.36</td>\n",
              "    </tr>\n",
              "    <tr>\n",
              "      <th>9</th>\n",
              "      <td>ORD00010</td>\n",
              "      <td>2023-08-03</td>\n",
              "      <td>Apparel</td>\n",
              "      <td>Product 10</td>\n",
              "      <td>7</td>\n",
              "      <td>159.63</td>\n",
              "      <td>North</td>\n",
              "      <td>CUST0049</td>\n",
              "      <td>1117.41</td>\n",
              "    </tr>\n",
              "  </tbody>\n",
              "</table>\n",
              "</div>\n",
              "    <div class=\"colab-df-buttons\">\n",
              "\n",
              "  <div class=\"colab-df-container\">\n",
              "    <button class=\"colab-df-convert\" onclick=\"convertToInteractive('df-60d703d0-27d5-4f18-9d83-4e2bca53ae87')\"\n",
              "            title=\"Convert this dataframe to an interactive table.\"\n",
              "            style=\"display:none;\">\n",
              "\n",
              "  <svg xmlns=\"http://www.w3.org/2000/svg\" height=\"24px\" viewBox=\"0 -960 960 960\">\n",
              "    <path d=\"M120-120v-720h720v720H120Zm60-500h600v-160H180v160Zm220 220h160v-160H400v160Zm0 220h160v-160H400v160ZM180-400h160v-160H180v160Zm440 0h160v-160H620v160ZM180-180h160v-160H180v160Zm440 0h160v-160H620v160Z\"/>\n",
              "  </svg>\n",
              "    </button>\n",
              "\n",
              "  <style>\n",
              "    .colab-df-container {\n",
              "      display:flex;\n",
              "      gap: 12px;\n",
              "    }\n",
              "\n",
              "    .colab-df-convert {\n",
              "      background-color: #E8F0FE;\n",
              "      border: none;\n",
              "      border-radius: 50%;\n",
              "      cursor: pointer;\n",
              "      display: none;\n",
              "      fill: #1967D2;\n",
              "      height: 32px;\n",
              "      padding: 0 0 0 0;\n",
              "      width: 32px;\n",
              "    }\n",
              "\n",
              "    .colab-df-convert:hover {\n",
              "      background-color: #E2EBFA;\n",
              "      box-shadow: 0px 1px 2px rgba(60, 64, 67, 0.3), 0px 1px 3px 1px rgba(60, 64, 67, 0.15);\n",
              "      fill: #174EA6;\n",
              "    }\n",
              "\n",
              "    .colab-df-buttons div {\n",
              "      margin-bottom: 4px;\n",
              "    }\n",
              "\n",
              "    [theme=dark] .colab-df-convert {\n",
              "      background-color: #3B4455;\n",
              "      fill: #D2E3FC;\n",
              "    }\n",
              "\n",
              "    [theme=dark] .colab-df-convert:hover {\n",
              "      background-color: #434B5C;\n",
              "      box-shadow: 0px 1px 3px 1px rgba(0, 0, 0, 0.15);\n",
              "      filter: drop-shadow(0px 1px 2px rgba(0, 0, 0, 0.3));\n",
              "      fill: #FFFFFF;\n",
              "    }\n",
              "  </style>\n",
              "\n",
              "    <script>\n",
              "      const buttonEl =\n",
              "        document.querySelector('#df-60d703d0-27d5-4f18-9d83-4e2bca53ae87 button.colab-df-convert');\n",
              "      buttonEl.style.display =\n",
              "        google.colab.kernel.accessAllowed ? 'block' : 'none';\n",
              "\n",
              "      async function convertToInteractive(key) {\n",
              "        const element = document.querySelector('#df-60d703d0-27d5-4f18-9d83-4e2bca53ae87');\n",
              "        const dataTable =\n",
              "          await google.colab.kernel.invokeFunction('convertToInteractive',\n",
              "                                                    [key], {});\n",
              "        if (!dataTable) return;\n",
              "\n",
              "        const docLinkHtml = 'Like what you see? Visit the ' +\n",
              "          '<a target=\"_blank\" href=https://colab.research.google.com/notebooks/data_table.ipynb>data table notebook</a>'\n",
              "          + ' to learn more about interactive tables.';\n",
              "        element.innerHTML = '';\n",
              "        dataTable['output_type'] = 'display_data';\n",
              "        await google.colab.output.renderOutput(dataTable, element);\n",
              "        const docLink = document.createElement('div');\n",
              "        docLink.innerHTML = docLinkHtml;\n",
              "        element.appendChild(docLink);\n",
              "      }\n",
              "    </script>\n",
              "  </div>\n",
              "\n",
              "\n",
              "<div id=\"df-e17d9b78-1d12-4ec2-ab81-d597d6ccf4b5\">\n",
              "  <button class=\"colab-df-quickchart\" onclick=\"quickchart('df-e17d9b78-1d12-4ec2-ab81-d597d6ccf4b5')\"\n",
              "            title=\"Suggest charts\"\n",
              "            style=\"display:none;\">\n",
              "\n",
              "<svg xmlns=\"http://www.w3.org/2000/svg\" height=\"24px\"viewBox=\"0 0 24 24\"\n",
              "     width=\"24px\">\n",
              "    <g>\n",
              "        <path d=\"M19 3H5c-1.1 0-2 .9-2 2v14c0 1.1.9 2 2 2h14c1.1 0 2-.9 2-2V5c0-1.1-.9-2-2-2zM9 17H7v-7h2v7zm4 0h-2V7h2v10zm4 0h-2v-4h2v4z\"/>\n",
              "    </g>\n",
              "</svg>\n",
              "  </button>\n",
              "\n",
              "<style>\n",
              "  .colab-df-quickchart {\n",
              "      --bg-color: #E8F0FE;\n",
              "      --fill-color: #1967D2;\n",
              "      --hover-bg-color: #E2EBFA;\n",
              "      --hover-fill-color: #174EA6;\n",
              "      --disabled-fill-color: #AAA;\n",
              "      --disabled-bg-color: #DDD;\n",
              "  }\n",
              "\n",
              "  [theme=dark] .colab-df-quickchart {\n",
              "      --bg-color: #3B4455;\n",
              "      --fill-color: #D2E3FC;\n",
              "      --hover-bg-color: #434B5C;\n",
              "      --hover-fill-color: #FFFFFF;\n",
              "      --disabled-bg-color: #3B4455;\n",
              "      --disabled-fill-color: #666;\n",
              "  }\n",
              "\n",
              "  .colab-df-quickchart {\n",
              "    background-color: var(--bg-color);\n",
              "    border: none;\n",
              "    border-radius: 50%;\n",
              "    cursor: pointer;\n",
              "    display: none;\n",
              "    fill: var(--fill-color);\n",
              "    height: 32px;\n",
              "    padding: 0;\n",
              "    width: 32px;\n",
              "  }\n",
              "\n",
              "  .colab-df-quickchart:hover {\n",
              "    background-color: var(--hover-bg-color);\n",
              "    box-shadow: 0 1px 2px rgba(60, 64, 67, 0.3), 0 1px 3px 1px rgba(60, 64, 67, 0.15);\n",
              "    fill: var(--button-hover-fill-color);\n",
              "  }\n",
              "\n",
              "  .colab-df-quickchart-complete:disabled,\n",
              "  .colab-df-quickchart-complete:disabled:hover {\n",
              "    background-color: var(--disabled-bg-color);\n",
              "    fill: var(--disabled-fill-color);\n",
              "    box-shadow: none;\n",
              "  }\n",
              "\n",
              "  .colab-df-spinner {\n",
              "    border: 2px solid var(--fill-color);\n",
              "    border-color: transparent;\n",
              "    border-bottom-color: var(--fill-color);\n",
              "    animation:\n",
              "      spin 1s steps(1) infinite;\n",
              "  }\n",
              "\n",
              "  @keyframes spin {\n",
              "    0% {\n",
              "      border-color: transparent;\n",
              "      border-bottom-color: var(--fill-color);\n",
              "      border-left-color: var(--fill-color);\n",
              "    }\n",
              "    20% {\n",
              "      border-color: transparent;\n",
              "      border-left-color: var(--fill-color);\n",
              "      border-top-color: var(--fill-color);\n",
              "    }\n",
              "    30% {\n",
              "      border-color: transparent;\n",
              "      border-left-color: var(--fill-color);\n",
              "      border-top-color: var(--fill-color);\n",
              "      border-right-color: var(--fill-color);\n",
              "    }\n",
              "    40% {\n",
              "      border-color: transparent;\n",
              "      border-right-color: var(--fill-color);\n",
              "      border-top-color: var(--fill-color);\n",
              "    }\n",
              "    60% {\n",
              "      border-color: transparent;\n",
              "      border-right-color: var(--fill-color);\n",
              "    }\n",
              "    80% {\n",
              "      border-color: transparent;\n",
              "      border-right-color: var(--fill-color);\n",
              "      border-bottom-color: var(--fill-color);\n",
              "    }\n",
              "    90% {\n",
              "      border-color: transparent;\n",
              "      border-bottom-color: var(--fill-color);\n",
              "    }\n",
              "  }\n",
              "</style>\n",
              "\n",
              "  <script>\n",
              "    async function quickchart(key) {\n",
              "      const quickchartButtonEl =\n",
              "        document.querySelector('#' + key + ' button');\n",
              "      quickchartButtonEl.disabled = true;  // To prevent multiple clicks.\n",
              "      quickchartButtonEl.classList.add('colab-df-spinner');\n",
              "      try {\n",
              "        const charts = await google.colab.kernel.invokeFunction(\n",
              "            'suggestCharts', [key], {});\n",
              "      } catch (error) {\n",
              "        console.error('Error during call to suggestCharts:', error);\n",
              "      }\n",
              "      quickchartButtonEl.classList.remove('colab-df-spinner');\n",
              "      quickchartButtonEl.classList.add('colab-df-quickchart-complete');\n",
              "    }\n",
              "    (() => {\n",
              "      let quickchartButtonEl =\n",
              "        document.querySelector('#df-e17d9b78-1d12-4ec2-ab81-d597d6ccf4b5 button');\n",
              "      quickchartButtonEl.style.display =\n",
              "        google.colab.kernel.accessAllowed ? 'block' : 'none';\n",
              "    })();\n",
              "  </script>\n",
              "</div>\n",
              "\n",
              "    </div>\n",
              "  </div>\n"
            ],
            "application/vnd.google.colaboratory.intrinsic+json": {
              "type": "dataframe",
              "variable_name": "data",
              "summary": "{\n  \"name\": \"data\",\n  \"rows\": 100,\n  \"fields\": [\n    {\n      \"column\": \"Order ID\",\n      \"properties\": {\n        \"dtype\": \"string\",\n        \"num_unique_values\": 100,\n        \"samples\": [\n          \"ORD00084\",\n          \"ORD00054\",\n          \"ORD00071\"\n        ],\n        \"semantic_type\": \"\",\n        \"description\": \"\"\n      }\n    },\n    {\n      \"column\": \"Order Date\",\n      \"properties\": {\n        \"dtype\": \"object\",\n        \"num_unique_values\": 87,\n        \"samples\": [\n          \"2023-12-04\",\n          \"2023-04-13\",\n          \"2023-08-24\"\n        ],\n        \"semantic_type\": \"\",\n        \"description\": \"\"\n      }\n    },\n    {\n      \"column\": \"Product Category\",\n      \"properties\": {\n        \"dtype\": \"category\",\n        \"num_unique_values\": 4,\n        \"samples\": [\n          \"Apparel\",\n          \"Furniture\",\n          \"Toys\"\n        ],\n        \"semantic_type\": \"\",\n        \"description\": \"\"\n      }\n    },\n    {\n      \"column\": \"Product Name\",\n      \"properties\": {\n        \"dtype\": \"string\",\n        \"num_unique_values\": 100,\n        \"samples\": [\n          \"Product 84\",\n          \"Product 54\",\n          \"Product 71\"\n        ],\n        \"semantic_type\": \"\",\n        \"description\": \"\"\n      }\n    },\n    {\n      \"column\": \"Quantity\",\n      \"properties\": {\n        \"dtype\": \"number\",\n        \"std\": 2,\n        \"min\": 1,\n        \"max\": 9,\n        \"num_unique_values\": 9,\n        \"samples\": [\n          5,\n          7,\n          6\n        ],\n        \"semantic_type\": \"\",\n        \"description\": \"\"\n      }\n    },\n    {\n      \"column\": \"Price\",\n      \"properties\": {\n        \"dtype\": \"number\",\n        \"std\": 141.02811855896977,\n        \"min\": 12.54,\n        \"max\": 497.33,\n        \"num_unique_values\": 100,\n        \"samples\": [\n          224.85,\n          247.79,\n          215.69\n        ],\n        \"semantic_type\": \"\",\n        \"description\": \"\"\n      }\n    },\n    {\n      \"column\": \"Region\",\n      \"properties\": {\n        \"dtype\": \"category\",\n        \"num_unique_values\": 4,\n        \"samples\": [\n          \"South\",\n          \"North\",\n          \"West\"\n        ],\n        \"semantic_type\": \"\",\n        \"description\": \"\"\n      }\n    },\n    {\n      \"column\": \"Customer ID\",\n      \"properties\": {\n        \"dtype\": \"category\",\n        \"num_unique_values\": 44,\n        \"samples\": [\n          \"CUST0048\",\n          \"CUST0046\",\n          \"CUST0023\"\n        ],\n        \"semantic_type\": \"\",\n        \"description\": \"\"\n      }\n    },\n    {\n      \"column\": \"Total Sales\",\n      \"properties\": {\n        \"dtype\": \"number\",\n        \"std\": 1163.697005330039,\n        \"min\": 12.54,\n        \"max\": 4475.52,\n        \"num_unique_values\": 100,\n        \"samples\": [\n          224.85,\n          495.58,\n          1725.52\n        ],\n        \"semantic_type\": \"\",\n        \"description\": \"\"\n      }\n    }\n  ]\n}"
            }
          },
          "metadata": {},
          "execution_count": 32
        }
      ]
    },
    {
      "cell_type": "markdown",
      "source": [
        "3. Print the column names and their respective data types"
      ],
      "metadata": {
        "id": "69vJf7nzoiLk"
      }
    },
    {
      "cell_type": "code",
      "source": [
        "# prompt: 3. Print the column names and their respective data types\n",
        "\n",
        "data.dtypes"
      ],
      "metadata": {
        "colab": {
          "base_uri": "https://localhost:8080/",
          "height": 366
        },
        "id": "nHHY5IGqomQt",
        "outputId": "f866749d-7607-425a-f0db-1776460a9511"
      },
      "execution_count": 33,
      "outputs": [
        {
          "output_type": "execute_result",
          "data": {
            "text/plain": [
              "Order ID             object\n",
              "Order Date           object\n",
              "Product Category     object\n",
              "Product Name         object\n",
              "Quantity              int64\n",
              "Price               float64\n",
              "Region               object\n",
              "Customer ID          object\n",
              "Total Sales         float64\n",
              "dtype: object"
            ],
            "text/html": [
              "<div>\n",
              "<style scoped>\n",
              "    .dataframe tbody tr th:only-of-type {\n",
              "        vertical-align: middle;\n",
              "    }\n",
              "\n",
              "    .dataframe tbody tr th {\n",
              "        vertical-align: top;\n",
              "    }\n",
              "\n",
              "    .dataframe thead th {\n",
              "        text-align: right;\n",
              "    }\n",
              "</style>\n",
              "<table border=\"1\" class=\"dataframe\">\n",
              "  <thead>\n",
              "    <tr style=\"text-align: right;\">\n",
              "      <th></th>\n",
              "      <th>0</th>\n",
              "    </tr>\n",
              "  </thead>\n",
              "  <tbody>\n",
              "    <tr>\n",
              "      <th>Order ID</th>\n",
              "      <td>object</td>\n",
              "    </tr>\n",
              "    <tr>\n",
              "      <th>Order Date</th>\n",
              "      <td>object</td>\n",
              "    </tr>\n",
              "    <tr>\n",
              "      <th>Product Category</th>\n",
              "      <td>object</td>\n",
              "    </tr>\n",
              "    <tr>\n",
              "      <th>Product Name</th>\n",
              "      <td>object</td>\n",
              "    </tr>\n",
              "    <tr>\n",
              "      <th>Quantity</th>\n",
              "      <td>int64</td>\n",
              "    </tr>\n",
              "    <tr>\n",
              "      <th>Price</th>\n",
              "      <td>float64</td>\n",
              "    </tr>\n",
              "    <tr>\n",
              "      <th>Region</th>\n",
              "      <td>object</td>\n",
              "    </tr>\n",
              "    <tr>\n",
              "      <th>Customer ID</th>\n",
              "      <td>object</td>\n",
              "    </tr>\n",
              "    <tr>\n",
              "      <th>Total Sales</th>\n",
              "      <td>float64</td>\n",
              "    </tr>\n",
              "  </tbody>\n",
              "</table>\n",
              "</div><br><label><b>dtype:</b> object</label>"
            ]
          },
          "metadata": {},
          "execution_count": 33
        }
      ]
    },
    {
      "cell_type": "markdown",
      "source": [
        "4. Check for missing values and duplicates in the dataset. How would you handle them?"
      ],
      "metadata": {
        "id": "Vhy9dSzfosCk"
      }
    },
    {
      "cell_type": "code",
      "source": [
        "# prompt: 4. Check for missing values and duplicates in the dataset. How would you handle them?\n",
        "\n",
        "# Check for missing values\n",
        "missing_values = data.isnull().sum()\n",
        "print(\"Missing values:\\n\", missing_values)\n",
        "\n",
        "# Check for duplicate rows\n",
        "duplicate_rows = data.duplicated().sum()\n",
        "print(\"\\nNumber of duplicate rows:\", duplicate_rows)\n",
        "\n",
        "# Handling missing values (example: filling with mean for numerical columns)\n",
        "for col in data.select_dtypes(include=['number']):\n",
        "    data[col].fillna(data[col].mean(), inplace=True)\n",
        "\n",
        "# Handling missing values (example: filling with mode for categorical columns)\n",
        "for col in data.select_dtypes(include=['object']):\n",
        "    data[col].fillna(data[col].mode()[0], inplace=True)\n",
        "\n",
        "# Handling duplicate rows (example: dropping duplicates)\n",
        "data.drop_duplicates(inplace=True)\n",
        "\n",
        "# Verify changes (optional)\n",
        "print(\"\\nMissing values after handling:\\n\", data.isnull().sum())\n",
        "print(\"\\nNumber of duplicate rows after handling:\", data.duplicated().sum())"
      ],
      "metadata": {
        "colab": {
          "base_uri": "https://localhost:8080/"
        },
        "id": "uDzDrNA-oxZs",
        "outputId": "393bf434-84fc-4b81-faa5-a0624fc7f3f6"
      },
      "execution_count": 35,
      "outputs": [
        {
          "output_type": "stream",
          "name": "stdout",
          "text": [
            "Missing values:\n",
            " Order ID            0\n",
            "Order Date          0\n",
            "Product Category    0\n",
            "Product Name        0\n",
            "Quantity            0\n",
            "Price               0\n",
            "Region              0\n",
            "Customer ID         0\n",
            "Total Sales         0\n",
            "dtype: int64\n",
            "\n",
            "Number of duplicate rows: 0\n",
            "\n",
            "Missing values after handling:\n",
            " Order ID            0\n",
            "Order Date          0\n",
            "Product Category    0\n",
            "Product Name        0\n",
            "Quantity            0\n",
            "Price               0\n",
            "Region              0\n",
            "Customer ID         0\n",
            "Total Sales         0\n",
            "dtype: int64\n",
            "\n",
            "Number of duplicate rows after handling: 0\n"
          ]
        },
        {
          "output_type": "stream",
          "name": "stderr",
          "text": [
            "<ipython-input-35-90871383c96a>:13: FutureWarning: A value is trying to be set on a copy of a DataFrame or Series through chained assignment using an inplace method.\n",
            "The behavior will change in pandas 3.0. This inplace method will never work because the intermediate object on which we are setting values always behaves as a copy.\n",
            "\n",
            "For example, when doing 'df[col].method(value, inplace=True)', try using 'df.method({col: value}, inplace=True)' or df[col] = df[col].method(value) instead, to perform the operation inplace on the original object.\n",
            "\n",
            "\n",
            "  data[col].fillna(data[col].mean(), inplace=True)\n",
            "<ipython-input-35-90871383c96a>:17: FutureWarning: A value is trying to be set on a copy of a DataFrame or Series through chained assignment using an inplace method.\n",
            "The behavior will change in pandas 3.0. This inplace method will never work because the intermediate object on which we are setting values always behaves as a copy.\n",
            "\n",
            "For example, when doing 'df[col].method(value, inplace=True)', try using 'df.method({col: value}, inplace=True)' or df[col] = df[col].method(value) instead, to perform the operation inplace on the original object.\n",
            "\n",
            "\n",
            "  data[col].fillna(data[col].mode()[0], inplace=True)\n"
          ]
        }
      ]
    },
    {
      "cell_type": "markdown",
      "source": [
        "# 2. Data **Cleaning**"
      ],
      "metadata": {
        "id": "swFVGr23o3ec"
      }
    },
    {
      "cell_type": "markdown",
      "source": [
        "1. If there are duplicates, remove them."
      ],
      "metadata": {
        "id": "xDbdJIqypI7E"
      }
    },
    {
      "cell_type": "code",
      "source": [
        "# prompt: 1. If there are duplicates, remove them.\n",
        "\n",
        "\n",
        "duplicate_rows_after_removal = data.duplicated().sum()\n",
        "print(\"\\nNumber of duplicate rows after handling:\", duplicate_rows_after_removal)"
      ],
      "metadata": {
        "colab": {
          "base_uri": "https://localhost:8080/"
        },
        "id": "MG6AnfztpPRc",
        "outputId": "859c3851-c117-4037-d019-9244983bbd9d"
      },
      "execution_count": 36,
      "outputs": [
        {
          "output_type": "stream",
          "name": "stdout",
          "text": [
            "\n",
            "Number of duplicate rows after handling: 0\n"
          ]
        }
      ]
    },
    {
      "cell_type": "markdown",
      "source": [
        "2. Handle missing values appropriately (drop or impute them)"
      ],
      "metadata": {
        "id": "yOjwu5aupUoE"
      }
    },
    {
      "cell_type": "code",
      "source": [
        "# prompt: 2. Handle missing values appropriately (drop or impute them)\n",
        "\n",
        "# Handling missing values (example: dropping rows with any missing values)\n",
        "data.dropna(inplace=True)\n",
        "\n",
        "# Verify changes (optional)\n",
        "print(\"\\nMissing values after handling:\\n\", data.isnull().sum())"
      ],
      "metadata": {
        "colab": {
          "base_uri": "https://localhost:8080/"
        },
        "id": "z7XYzEOIprRU",
        "outputId": "7c88f0fe-7cc3-43c1-9b78-a8366f934739"
      },
      "execution_count": 37,
      "outputs": [
        {
          "output_type": "stream",
          "name": "stdout",
          "text": [
            "\n",
            "Missing values after handling:\n",
            " Order ID            0\n",
            "Order Date          0\n",
            "Product Category    0\n",
            "Product Name        0\n",
            "Quantity            0\n",
            "Price               0\n",
            "Region              0\n",
            "Customer ID         0\n",
            "Total Sales         0\n",
            "dtype: int64\n"
          ]
        }
      ]
    },
    {
      "cell_type": "markdown",
      "source": [
        "3. Rename the columns to more meaningful names, if necessary."
      ],
      "metadata": {
        "id": "KuagZhFBpy2U"
      }
    },
    {
      "cell_type": "code",
      "source": [
        "# prompt: 3. Rename the columns to more meaningful names, if necessary.\n",
        "\n",
        "# Rename columns (example)\n",
        "data = data.rename(columns={\n",
        "    'order_id': 'Order ID',\n",
        "    'order_date': 'Order Date',\n",
        "    'ship_date': 'Ship Date',\n",
        "    'ship_mode': 'Shipping Mode',\n",
        "    'customer_name': 'Customer Name',\n",
        "    'segment': 'Customer Segment',\n",
        "    'country': 'Country',\n",
        "    'city': 'City',\n",
        "    'state': 'State',\n",
        "    'postal_code': 'Postal Code',\n",
        "    'region': 'Region',\n",
        "    'product_id': 'Product ID',\n",
        "    'category': 'Product Category',\n",
        "    'sub_category': 'Product Sub-Category',\n",
        "    'product_name': 'Product Name',\n",
        "    'sales': 'Sales',\n",
        "    'quantity': 'Quantity',\n",
        "    'discount': 'Discount',\n",
        "    'profit': 'Profit'\n",
        "})\n",
        "\n",
        "# Display the updated column names\n",
        "data.columns"
      ],
      "metadata": {
        "colab": {
          "base_uri": "https://localhost:8080/"
        },
        "id": "h2NWh8zdp4_k",
        "outputId": "0f9f2588-e68e-441f-90a4-d40b1deaeb9d"
      },
      "execution_count": 38,
      "outputs": [
        {
          "output_type": "execute_result",
          "data": {
            "text/plain": [
              "Index(['Order ID', 'Order Date', 'Product Category', 'Product Name',\n",
              "       'Quantity', 'Price', 'Region', 'Customer ID', 'Total Sales'],\n",
              "      dtype='object')"
            ]
          },
          "metadata": {},
          "execution_count": 38
        }
      ]
    },
    {
      "cell_type": "markdown",
      "source": [
        "# 3. Exploratory Data Analysis (EDA)**bold text**"
      ],
      "metadata": {
        "id": "3qwo2EGkp9HU"
      }
    },
    {
      "cell_type": "markdown",
      "source": [
        "1. Plot the distribution of the following discrete features:\n",
        "\n",
        "o Quantity\n",
        "\n",
        "o Category\n",
        "\n",
        "o Region"
      ],
      "metadata": {
        "id": "21d17OHJqJNU"
      }
    },
    {
      "cell_type": "code",
      "source": [
        "# prompt: Plot the distribution of the following discrete features:\n",
        "# o Quantity\n",
        "\n",
        "import matplotlib.pyplot as plt\n",
        "import seaborn as sns\n",
        "\n",
        "# Plot the distribution of 'Quantity'\n",
        "plt.figure(figsize=(8, 6))\n",
        "sns.countplot(x='Quantity', data=data)\n",
        "plt.title('Distribution of Quantity')\n",
        "plt.xlabel('Quantity')\n",
        "plt.ylabel('Count')\n",
        "plt.show()\n",
        "\n",
        "# Plot the distribution of 'Product Category'\n",
        "plt.figure(figsize=(8, 6))\n",
        "sns.countplot(x='Product Category', data=data)\n",
        "plt.title('Distribution of Product Category')\n",
        "plt.xlabel('Product Category')\n",
        "plt.ylabel('Count')\n",
        "plt.xticks(rotation=45, ha='right') # Rotate x-axis labels for better readability\n",
        "plt.show()\n",
        "\n",
        "# Plot the distribution of 'Region'\n",
        "plt.figure(figsize=(8, 6))\n",
        "sns.countplot(x='Region', data=data)\n",
        "plt.title('Distribution of Region')\n",
        "plt.xlabel('Region')\n",
        "plt.ylabel('Count')\n",
        "plt.show()"
      ],
      "metadata": {
        "colab": {
          "base_uri": "https://localhost:8080/",
          "height": 1000
        },
        "id": "h4pWhyNGqK4U",
        "outputId": "b9ddfb0b-e1cd-4339-feb9-8c496af58f6c"
      },
      "execution_count": 39,
      "outputs": [
        {
          "output_type": "display_data",
          "data": {
            "text/plain": [
              "<Figure size 800x600 with 1 Axes>"
            ],
            "image/png": "[encoded data removed]"
          },
          "metadata": {}
        },
        {
          "output_type": "display_data",
          "data": {
            "text/plain": [
              "<Figure size 800x600 with 1 Axes>"
            ],
            "image/png": "[encoded data removed]"
          },
          "metadata": {}
        },
        {
          "output_type": "display_data",
          "data": {
            "text/plain": [
              "<Figure size 800x600 with 1 Axes>"
            ],
            "image/png": "[encoded data removed]"
          },
          "metadata": {}
        }
      ]
    },
    {
      "cell_type": "code",
      "source": [
        "# prompt: Plot the distribution of the following discrete features:\n",
        "# o Category\n",
        "\n",
        "# Plot the distribution of 'Product Category'\n",
        "plt.figure(figsize=(8, 6))\n",
        "sns.countplot(x='Product Category', data=data)\n",
        "plt.title('Distribution of Product Category')\n",
        "plt.xlabel('Product Category')\n",
        "plt.ylabel('Count')\n",
        "plt.xticks(rotation=45, ha='right') # Rotate x-axis labels for better readability\n",
        "plt.show()"
      ],
      "metadata": {
        "colab": {
          "base_uri": "https://localhost:8080/",
          "height": 613
        },
        "id": "3jAJNwXMqR2U",
        "outputId": "48790835-4b50-49b8-bd68-3de8ed0887b6"
      },
      "execution_count": 40,
      "outputs": [
        {
          "output_type": "display_data",
          "data": {
            "text/plain": [
              "<Figure size 800x600 with 1 Axes>"
            ],
            "image/png": "[encoded data removed]"
          },
          "metadata": {}
        }
      ]
    },
    {
      "cell_type": "code",
      "source": [
        "# prompt: Plot the distribution of the following discrete features:\n",
        "# o Region\n",
        "\n",
        "# Plot the distribution of 'Region'\n",
        "plt.figure(figsize=(8, 6))\n",
        "sns.countplot(x='Region', data=data)\n",
        "plt.title('Distribution of Region')\n",
        "plt.xlabel('Region')\n",
        "plt.ylabel('Count')\n",
        "plt.show()"
      ],
      "metadata": {
        "colab": {
          "base_uri": "https://localhost:8080/",
          "height": 564
        },
        "id": "8DveS5wCqZr9",
        "outputId": "1a6697da-afad-4046-ba47-4b4d6471f5a6"
      },
      "execution_count": 41,
      "outputs": [
        {
          "output_type": "display_data",
          "data": {
            "text/plain": [
              "<Figure size 800x600 with 1 Axes>"
            ],
            "image/png": "[encoded data removed]"
          },
          "metadata": {}
        }
      ]
    },
    {
      "cell_type": "markdown",
      "source": [
        "2. Identify the most frequently purchased product category."
      ],
      "metadata": {
        "id": "jXTRErmRqwLk"
      }
    },
    {
      "cell_type": "code",
      "source": [
        "# prompt: 2. Identify the most frequently purchased product category.\n",
        "\n",
        "# Identify the most frequently purchased product category.\n",
        "most_frequent_category = data['Product Category'].mode()[0]\n",
        "print(f\"The most frequently purchased product category is: {most_frequent_category}\")"
      ],
      "metadata": {
        "colab": {
          "base_uri": "https://localhost:8080/"
        },
        "id": "A37yqBPUq2kE",
        "outputId": "6ac931b0-5e8e-40f8-e83f-ede6a28f54a5"
      },
      "execution_count": 43,
      "outputs": [
        {
          "output_type": "stream",
          "name": "stdout",
          "text": [
            "The most frequently purchased product category is: Apparel\n"
          ]
        }
      ]
    },
    {
      "cell_type": "markdown",
      "source": [
        "3. Find the region contributing the most to sales."
      ],
      "metadata": {
        "id": "8NILQqOeq7i2"
      }
    },
    {
      "cell_type": "code",
      "source": [
        "import pandas as pd\n",
        "\n",
        "# Sample data (replace with your actual data)\n",
        "data = {'region': ['East', 'West', 'North', 'South', 'East', 'West', 'North', 'South'],\n",
        "        'sales': [100, 150, 80, 120, 90, 130, 70, 110]}\n",
        "\n",
        "# Create a DataFrame\n",
        "df = pd.DataFrame(data)\n",
        "\n",
        "# Group the data by region and calculate the total sales for each region\n",
        "region_sales = df.groupby('region')['sales'].sum()\n",
        "\n",
        "# Find the region with the highest sales\n",
        "max_sales_region = region_sales.idxmax()\n",
        "\n",
        "# Print the region with the highest sales\n",
        "print(\"Region with the most sales:\", max_sales_region)"
      ],
      "metadata": {
        "colab": {
          "base_uri": "https://localhost:8080/"
        },
        "id": "1g1TdlCZrh5l",
        "outputId": "ccfc513a-1f10-4a31-c8c7-995047e68b5b"
      },
      "execution_count": 44,
      "outputs": [
        {
          "output_type": "stream",
          "name": "stdout",
          "text": [
            "Region with the most sales: West\n"
          ]
        }
      ]
    },
    {
      "cell_type": "markdown",
      "source": [
        "# 4. Timestamp **Transformation**"
      ],
      "metadata": {
        "id": "bioxqyc-rkAl"
      }
    },
    {
      "cell_type": "markdown",
      "source": [
        "1. Convert the Order Date column to a datetime format."
      ],
      "metadata": {
        "id": "3yKbwB7arqkc"
      }
    },
    {
      "cell_type": "code",
      "source": [
        "import pandas as pd\n",
        "\n",
        "# Sample data (replace with your actual data)\n",
        "data = {'Order Date': ['2023-11-22', '2023-12-01', '2023-11-28']}\n",
        "\n",
        "# Create a DataFrame\n",
        "df = pd.DataFrame(data)\n",
        "\n",
        "# Convert the 'Order Date' column to datetime format\n",
        "df['Order Date'] = pd.to_datetime(df['Order Date'])\n",
        "\n",
        "print(df)"
      ],
      "metadata": {
        "colab": {
          "base_uri": "https://localhost:8080/"
        },
        "id": "ZkMpNascr_mV",
        "outputId": "2b43f5a7-7f28-4a31-f841-3bcebfea3539"
      },
      "execution_count": 45,
      "outputs": [
        {
          "output_type": "stream",
          "name": "stdout",
          "text": [
            "  Order Date\n",
            "0 2023-11-22\n",
            "1 2023-12-01\n",
            "2 2023-11-28\n"
          ]
        }
      ]
    },
    {
      "cell_type": "markdown",
      "source": [
        "Convert the Order Date column to a datetime format.\n",
        "\n",
        "2. Create new columns:\n",
        "\n",
        "o Day of the week.\n",
        "\n",
        "o Day of the month.\n",
        "\n",
        "o Month.\n",
        "\n",
        "o Year.\n",
        "\n",
        "o Season (Winter, Spring, Summer, Fall)."
      ],
      "metadata": {
        "id": "vMqHByrxsB4F"
      }
    },
    {
      "cell_type": "code",
      "source": [
        "import pandas as pd\n",
        "\n",
        "# Sample data (replace with your actual data)\n",
        "data = {'Order Date': ['2023-11-22', '2023-12-01', '2023-11-28']}\n",
        "\n",
        "# Create a DataFrame\n",
        "df = pd.DataFrame(data)\n",
        "\n",
        "# Convert the 'Order Date' column to datetime format\n",
        "df['Order Date'] = pd.to_datetime(df['Order Date'])\n",
        "\n",
        "# Create new columns\n",
        "df['Day of Week'] = df['Order Date'].dt.day_name()\n",
        "df['Day of Month'] = df['Order Date'].dt.day\n",
        "df['Month'] = df['Order Date'].dt.month_name()\n",
        "df['Year'] = df['Order Date'].dt.year\n",
        "\n",
        "# Define a function to determine the season\n",
        "def get_season(month):\n",
        "    if month in [12, 1, 2]:\n",
        "        return 'Winter'\n",
        "    elif month in [3, 4, 5]:\n",
        "        return 'Spring'\n",
        "    elif month in [6, 7, 8]:\n",
        "        return 'Summer'\n",
        "    else:\n",
        "        return 'Fall'\n",
        "\n",
        "# Apply the function to create the 'Season' column\n",
        "df['Season'] = df['Month'].apply(get_season)\n",
        "\n",
        "print(df)"
      ],
      "metadata": {
        "colab": {
          "base_uri": "https://localhost:8080/"
        },
        "id": "oGywPKNqsGUu",
        "outputId": "077330d9-c6f4-4e03-85f7-4e7ce9a4fc39"
      },
      "execution_count": 47,
      "outputs": [
        {
          "output_type": "stream",
          "name": "stdout",
          "text": [
            "  Order Date Day of Week  Day of Month     Month  Year Season\n",
            "0 2023-11-22   Wednesday            22  November  2023   Fall\n",
            "1 2023-12-01      Friday             1  December  2023   Fall\n",
            "2 2023-11-28     Tuesday            28  November  2023   Fall\n"
          ]
        }
      ]
    },
    {
      "cell_type": "markdown",
      "source": [
        "3. Set the Order Date column as the DataFrame index."
      ],
      "metadata": {
        "id": "5VesX3dTsYIF"
      }
    },
    {
      "cell_type": "code",
      "source": [
        "import pandas as pd\n",
        "\n",
        "# Sample data (replace with your actual data)\n",
        "data = {'Order Date': ['2023-11-22', '2023-12-01', '2023-11-28'],\n",
        "        'Sales': [100, 150, 80]}\n",
        "\n",
        "# Create a DataFrame\n",
        "df = pd.DataFrame(data)\n",
        "\n",
        "# Convert the 'Order Date' column to datetime format\n",
        "df['Order Date'] = pd.to_datetime(df['Order Date'])\n",
        "\n",
        "# Set the 'Order Date' column as the index\n",
        "df.set_index('Order Date', inplace=True)\n",
        "\n",
        "print(df)"
      ],
      "metadata": {
        "colab": {
          "base_uri": "https://localhost:8080/"
        },
        "id": "SQCs7fmBssL9",
        "outputId": "f8fbebcb-ea35-410b-b03a-8691c67be0a1"
      },
      "execution_count": 48,
      "outputs": [
        {
          "output_type": "stream",
          "name": "stdout",
          "text": [
            "            Sales\n",
            "Order Date       \n",
            "2023-11-22    100\n",
            "2023-12-01    150\n",
            "2023-11-28     80\n"
          ]
        }
      ]
    },
    {
      "cell_type": "markdown",
      "source": [
        "# 5. Correlation **Analysis**"
      ],
      "metadata": {
        "id": "zPGtWMNTsw9N"
      }
    },
    {
      "cell_type": "markdown",
      "source": [
        "1. Compute the correlation matrix for numerical columns."
      ],
      "metadata": {
        "id": "WyLJBiuos2LV"
      }
    },
    {
      "cell_type": "code",
      "source": [
        "import pandas as pd\n",
        "import numpy as np\n",
        "\n",
        "# Sample data (replace with your actual data)\n",
        "data = {'Sales': [100, 150, 80, 120, 90, 130, 70, 110],\n",
        "        'Profit': [20, 30, 15, 25, 18, 28, 12, 22]}\n",
        "\n",
        "# Create a DataFrame\n",
        "df = pd.DataFrame(data)\n",
        "\n",
        "# Calculate the correlation matrix\n",
        "correlation_matrix = df.corr()\n",
        "\n",
        "# Print the correlation matrix\n",
        "print(correlation_matrix)"
      ],
      "metadata": {
        "colab": {
          "base_uri": "https://localhost:8080/"
        },
        "id": "KjYlJvuZs6sf",
        "outputId": "3efec8a7-015e-4aa2-c1b1-535d4800e522"
      },
      "execution_count": 49,
      "outputs": [
        {
          "output_type": "stream",
          "name": "stdout",
          "text": [
            "           Sales    Profit\n",
            "Sales   1.000000  0.991062\n",
            "Profit  0.991062  1.000000\n"
          ]
        }
      ]
    },
    {
      "cell_type": "markdown",
      "source": [
        "2. Visualize the correlation matrix using a heatmap."
      ],
      "metadata": {
        "id": "axrVyh6ftBad"
      }
    },
    {
      "cell_type": "code",
      "source": [
        "import pandas as pd\n",
        "import numpy as np\n",
        "import seaborn as sns\n",
        "import matplotlib.pyplot as plt\n",
        "\n",
        "# Sample data (replace with your actual data)\n",
        "data = {'Sales': [100, 150, 80, 120, 90, 130, 70, 110],\n",
        "        'Profit': [20, 30, 15, 25, 18, 28, 12, 22]}\n",
        "\n",
        "# Create a DataFrame\n",
        "df = pd.DataFrame(data)\n",
        "\n",
        "# Calculate the correlation matrix\n",
        "correlation_matrix = df.corr()\n",
        "\n",
        "# Visualize the correlation matrix using a heatmap\n",
        "plt.figure(figsize=(8, 6))\n",
        "sns.heatmap(correlation_matrix, annot=True, cmap='coolwarm')\n",
        "plt.title('Correlation Matrix')\n",
        "plt.show()"
      ],
      "metadata": {
        "colab": {
          "base_uri": "https://localhost:8080/",
          "height": 545
        },
        "id": "UEUYuSHxtGGg",
        "outputId": "dbc7a302-0c94-4926-f571-dd926350d3a8"
      },
      "execution_count": 50,
      "outputs": [
        {
          "output_type": "display_data",
          "data": {
            "text/plain": [
              "<Figure size 800x600 with 2 Axes>"
            ],
            "image/png": "[encoded data removed]"
          },
          "metadata": {}
        }
      ]
    },
    {
      "cell_type": "markdown",
      "source": [
        "3. Identify and discuss two key relationships from the heatmap."
      ],
      "metadata": {
        "id": "YBegC-4mtM-N"
      }
    },
    {
      "cell_type": "code",
      "source": [
        "import pandas as pd\n",
        "import seaborn as sns\n",
        "import matplotlib.pyplot as plt\n",
        "\n",
        "# Sample data (replace with your actual data)\n",
        "data = {'Sales': [100, 150, 80, 120, 90, 130, 70, 110],\n",
        "        'Profit': [20, 30, 15, 25, 18, 28, 12, 22],\n",
        "        'Marketing Spend': [10, 15, 8, 12, 9, 13, 7, 11]}\n",
        "\n",
        "# Create a DataFrame\n",
        "df = pd.DataFrame(data)\n",
        "\n",
        "# Calculate the correlation matrix\n",
        "correlation_matrix = df.corr()\n",
        "\n",
        "# Visualize the correlation matrix using a heatmap\n",
        "plt.figure(figsize=(8, 6))\n",
        "sns.heatmap(correlation_matrix, annot=True, cmap='coolwarm')\n",
        "plt.title('Correlation Matrix')\n",
        "plt.show()"
      ],
      "metadata": {
        "colab": {
          "base_uri": "https://localhost:8080/",
          "height": 545
        },
        "id": "Ew4u8wy-tYCt",
        "outputId": "8dfdb9fa-0928-46c4-b470-66b0a6a0cacd"
      },
      "execution_count": 51,
      "outputs": [
        {
          "output_type": "display_data",
          "data": {
            "text/plain": [
              "<Figure size 800x600 with 2 Axes>"
            ],
            "image/png": "[encoded data removed]"
          },
          "metadata": {}
        }
      ]
    },
    {
      "cell_type": "markdown",
      "source": [
        "# 6. DataFrame ***Operations*** italicized text"
      ],
      "metadata": {
        "id": "FgZG8150tmiF"
      }
    },
    {
      "cell_type": "markdown",
      "source": [
        "1. Use loc to extract sales data for a specific date or range of dates."
      ],
      "metadata": {
        "id": "8xVyahNUt31l"
      }
    },
    {
      "cell_type": "code",
      "source": [
        "data"
      ],
      "metadata": {
        "colab": {
          "base_uri": "https://localhost:8080/"
        },
        "id": "sDzkdy2zu4c9",
        "outputId": "98fb27fa-7bc3-46ea-829e-8f05d062d4b7"
      },
      "execution_count": 52,
      "outputs": [
        {
          "output_type": "execute_result",
          "data": {
            "text/plain": [
              "{'Sales': [100, 150, 80, 120, 90, 130, 70, 110],\n",
              " 'Profit': [20, 30, 15, 25, 18, 28, 12, 22],\n",
              " 'Marketing Spend': [10, 15, 8, 12, 9, 13, 7, 11]}"
            ]
          },
          "metadata": {},
          "execution_count": 52
        }
      ]
    },
    {
      "cell_type": "code",
      "source": [
        "# prompt: generate code using loc to extract sales data for a specific date or range of date\n",
        "\n",
        "import pandas as pd\n",
        "\n",
        "# Convert your dictionary data to a Pandas DataFrame\n",
        "data = pd.DataFrame(data)  # Assuming 'data' is your dictionary\n",
        "\n",
        "# Convert 'Order Date' column to datetime if it's not already\n",
        "data['Order Date'] = pd.to_datetime(data['Order Date'])\n",
        "\n",
        "# Example 1: Extract sales data for a specific date (e.g., '2023-11-22')\n",
        "specific_date_sales = data.loc[data['Order Date'] == '2023-11-22', 'Sales']\n",
        "print(\"Sales for 2023-11-22:\\n\", specific_date_sales)\n",
        "\n",
        "# Example 2: Extract sales data for a range of dates (e.g., between '2023-11-22' and '2023-11-28')\n",
        "start_date = '2023-11-22'\n",
        "end_date = '2023-11-28'\n",
        "date_range_sales = data.loc[(data['Order Date'] >= start_date) & (data['Order Date'] <= end_date), 'Sales']\n",
        "print(f\"\\nSales between {start_date} and {end_date}:\\n\", date_range_sales)"
      ],
      "metadata": {
        "colab": {
          "base_uri": "https://localhost:8080/"
        },
        "id": "7WReNAgzwWnu",
        "outputId": "afca860c-9021-4fed-cd8c-82531cee8f63"
      },
      "execution_count": 58,
      "outputs": [
        {
          "output_type": "stream",
          "name": "stdout",
          "text": [
            "Sales for 2023-11-22:\n",
            " 0    100\n",
            "Name: Sales, dtype: int64\n",
            "\n",
            "Sales between 2023-11-22 and 2023-11-28:\n",
            " 0    100\n",
            "2     80\n",
            "Name: Sales, dtype: int64\n"
          ]
        }
      ]
    },
    {
      "cell_type": "markdown",
      "source": [
        "2. Use iloc to extract the first 10 rows of the dataset."
      ],
      "metadata": {
        "id": "6EIYY5xSwxOG"
      }
    },
    {
      "cell_type": "code",
      "source": [
        "import pandas as pd\n",
        "\n",
        "# Sample data (replace with your actual data)\n",
        "data = {'Order Date': ['2023-11-22', '2023-12-01', '2023-11-28', '2023-11-29', '2023-12-02', '2023-11-30', '2023-12-03', '2023-11-21', '2023-12-04', '2023-11-20'],\n",
        "        'Sales': [100, 150, 80, 120, 90, 130, 70, 110, 140, 60]}\n",
        "\n",
        "# Create a DataFrame\n",
        "df = pd.DataFrame(data)\n",
        "\n",
        "# Convert the 'Order Date' column to datetime format\n",
        "df['Order Date'] = pd.to_datetime(df['Order Date'])\n",
        "\n",
        "# Set the 'Order Date' column as the index\n",
        "df.set_index('Order Date', inplace=True)\n",
        "\n",
        "# Extract the first 10 rows\n",
        "first_10_rows = df.iloc[:10]\n",
        "print(first_10_rows)"
      ],
      "metadata": {
        "colab": {
          "base_uri": "https://localhost:8080/"
        },
        "id": "-C2-GZxWw03m",
        "outputId": "157e68ec-e973-4de7-8dbd-4d8ec6f10cc3"
      },
      "execution_count": 59,
      "outputs": [
        {
          "output_type": "stream",
          "name": "stdout",
          "text": [
            "            Sales\n",
            "Order Date       \n",
            "2023-11-22    100\n",
            "2023-12-01    150\n",
            "2023-11-28     80\n",
            "2023-11-29    120\n",
            "2023-12-02     90\n",
            "2023-11-30    130\n",
            "2023-12-03     70\n",
            "2023-11-21    110\n",
            "2023-12-04    140\n",
            "2023-11-20     60\n"
          ]
        }
      ]
    },
    {
      "cell_type": "markdown",
      "source": [
        "3. Drop a column (e.g., Region) using drop(axis=1)."
      ],
      "metadata": {
        "id": "UpH_DoX0xIbO"
      }
    },
    {
      "cell_type": "code",
      "source": [
        "import pandas as pd\n",
        "\n",
        "# Sample data (replace with your actual data)\n",
        "data = {'Region': ['East', 'West', 'North', 'South'],\n",
        "        'Sales': [100, 150, 80, 120]}\n",
        "\n",
        "# Create a DataFrame\n",
        "df = pd.DataFrame(data)\n",
        "\n",
        "# Drop the 'Region' column\n",
        "df = df.drop('Region', axis=1)\n",
        "\n",
        "print(df)"
      ],
      "metadata": {
        "colab": {
          "base_uri": "https://localhost:8080/"
        },
        "id": "l0i-m8hZxZm-",
        "outputId": "b11f4943-e3fc-4269-c037-2196a448790d"
      },
      "execution_count": 60,
      "outputs": [
        {
          "output_type": "stream",
          "name": "stdout",
          "text": [
            "   Sales\n",
            "0    100\n",
            "1    150\n",
            "2     80\n",
            "3    120\n"
          ]
        }
      ]
    },
    {
      "cell_type": "markdown",
      "source": [
        "4. Drop the first two rows using drop(axis=0)"
      ],
      "metadata": {
        "id": "Hso1VRNnyLQO"
      }
    },
    {
      "cell_type": "code",
      "source": [
        "import pandas as pd\n",
        "\n",
        "# Sample data (replace with your actual data)\n",
        "data = {'Region': ['East', 'West', 'North', 'South'],\n",
        "        'Sales': [100, 150, 80, 120]}\n",
        "\n",
        "# Create a DataFrame\n",
        "df = pd.DataFrame(data)\n",
        "\n",
        "# Drop the first two rows\n",
        "df = df.drop(df.index[:2])\n",
        "\n",
        "print(df)"
      ],
      "metadata": {
        "colab": {
          "base_uri": "https://localhost:8080/"
        },
        "id": "w8Vx7l7uyPTG",
        "outputId": "6e3acdc7-f0a1-4e05-af0d-6889ec5b1b5a"
      },
      "execution_count": 61,
      "outputs": [
        {
          "output_type": "stream",
          "name": "stdout",
          "text": [
            "  Region  Sales\n",
            "2  North     80\n",
            "3  South    120\n"
          ]
        }
      ]
    },
    {
      "cell_type": "markdown",
      "source": [
        "# 7. Insights and **Reporting**"
      ],
      "metadata": {
        "id": "BhSqjQbByX_G"
      }
    },
    {
      "cell_type": "markdown",
      "source": [
        "1. Write a one-page summary of key insights from the analysis."
      ],
      "metadata": {
        "id": "NPX2XDwwyiGu"
      }
    },
    {
      "cell_type": "markdown",
      "source": [
        "Key Insights from Data Analysis\n",
        "Data Understanding and Preparation:\n",
        "\n",
        "Data Source: [Data source description]\n",
        "Data Cleaning: Handled missing values and outliers.\n",
        "Feature Engineering: Created new features from 'Order Date' for time-series analysis.\n",
        "Exploratory Data Analysis (EDA):\n",
        "\n",
        "Univariate Analysis: Analyzed distribution of numerical and categorical variables.\n",
        "Bivariate Analysis: Identified relationships between variables, such as the correlation between sales and profit.\n",
        "Time Series Analysis: Analyzed trends, seasonality, and the impact of holidays and weekends on sales.\n",
        "Key Findings:\n",
        "\n",
        "Seasonal Trends: Sales fluctuate with seasons, with peaks during holidays.\n",
        "Weekend Effect: Weekends often see higher sales.\n",
        "Regional Variations: Sales performance differs across regions.\n",
        "Product Category Impact: Certain product categories contribute more to sales.\n",
        "Positive Correlation: Sales and profit are positively correlated.\n",
        "Recommendations:\n",
        "\n",
        "Leverage Seasonal Trends: Optimize inventory and marketing for peak seasons.\n",
        "Maximize Weekend Sales: Implement strategies to boost weekend sales.\n",
        "Target High-Performing Regions: Focus efforts on top-performing regions.\n",
        "Analyze Product Performance: Optimize product mix and marketing strategies.\n",
        "Continuous Monitoring: Regularly monitor sales trends and adjust strategies.\n",
        "\n",
        "\n",
        "\n",
        "\n",
        "\n",
        "\n",
        "\n",
        "\n",
        "\n",
        "\n"
      ],
      "metadata": {
        "id": "p2a2nGVnzqG3"
      }
    },
    {
      "cell_type": "markdown",
      "source": [
        "2. Highlight recommendations for improving sales based on your findings."
      ],
      "metadata": {
        "id": "Cc-1dS0szr84"
      }
    },
    {
      "cell_type": "markdown",
      "source": [
        "Key Recommendations to Improve Sales\n",
        "Based on the insights gained from the data analysis, the following recommendations can be implemented to improve sales:\n",
        "\n",
        "Leverage Seasonal Trends\n",
        "Identify Peak Seasons: Pinpoint the specific seasons or months with the highest sales.\n",
        "Optimize Inventory: Ensure sufficient stock levels during peak seasons to meet increased demand.\n",
        "Timely Marketing Campaigns: Launch targeted marketing campaigns during peak seasons to drive sales.\n",
        "Capitalize on Weekend Sales\n",
        "Analyze Weekend Behavior: Understand customer preferences and buying patterns on weekends.\n",
        "Special Promotions: Offer special promotions or discounts on weekends to attract customers.\n",
        "Extended Store Hours: Consider extending store hours on weekends to accommodate increased demand.\n",
        "Target High-Performing Regions\n",
        "Identify Top-Performing Regions: Determine regions with the highest sales and profit margins.\n",
        "Focus Marketing Efforts: Allocate marketing resources to these regions to further boost sales.\n",
        "Expand Market Presence: Consider expanding operations in these regions or opening new stores.\n",
        "Optimize Product Mix\n",
        "Analyze Product Performance: Identify top-performing and underperforming product categories.\n",
        "Optimize Inventory: Adjust inventory levels to prioritize high-performing products.\n",
        "Introduce New Products: Introduce new products or product variants to cater to evolving customer preferences.\n",
        "Continuous Monitoring and Improvement\n",
        "Regular Data Analysis: Continuously monitor sales data to identify trends and patterns.\n",
        "Customer Feedback: Gather customer feedback to understand their needs and preferences.\n",
        "Iterative Improvement: Use data-driven insights to refine marketing strategies and operational processes.\n",
        "By implementing these recommendations and continuously monitoring sales performance, businesses can improve sales, increase customer satisfaction, and achieve sustainable growth.\n",
        "\n",
        "\n",
        "\n",
        "\n",
        "\n"
      ],
      "metadata": {
        "id": "1IrFXqZKzw3n"
      }
    },
    {
      "cell_type": "markdown",
      "source": [
        "**Key Recommendations to Boost Sales:**\n",
        "\n",
        "Leverage Seasonal Trends: Optimize inventory and marketing for peak seasons.\n",
        "Capitalize on Weekends: Implement strategies to increase weekend sales.\n",
        "Target High-Performing Regions: Focus efforts on top-performing areas.\n",
        "Optimize Product Mix: Prioritize high-performing products and introduce new ones.\n",
        "Continuous Monitoring: Regularly analyze data and adjust strategies."
      ],
      "metadata": {
        "id": "2CTUuDP1z9TX"
      }
    },
    {
      "cell_type": "markdown",
      "source": [],
      "metadata": {
        "id": "4dst7WFd0Kmf"
      }
    },
    {
      "cell_type": "markdown",
      "source": [],
      "metadata": {
        "id": "NulYl_4X0FQv"
      }
    }
  ]
}